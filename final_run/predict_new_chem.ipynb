{
 "cells": [
  {
   "cell_type": "code",
   "execution_count": 1,
   "metadata": {},
   "outputs": [
    {
     "name": "stdout",
     "output_type": "stream",
     "text": [
      "Could not import custom script CNN\n"
     ]
    },
    {
     "data": {
      "text/plain": [
       "(device(type='cuda'), True)"
      ]
     },
     "execution_count": 1,
     "metadata": {},
     "output_type": "execute_result"
    }
   ],
   "source": [
    "import os\n",
    "import gc\n",
    "import glob\n",
    "import sys\n",
    "import random\n",
    "import string\n",
    "import tqdm\n",
    "import json\n",
    "import time\n",
    "import sqlite3\n",
    "import warnings\n",
    "import pandas as pd\n",
    "import numpy as np\n",
    "\n",
    "from rdkit import Chem\n",
    "from rdkit.Chem import Draw\n",
    "from rdkit.Chem.Draw import IPythonConsole\n",
    "from rdkit import RDLogger\n",
    "\n",
    "from SmilesPE.pretokenizer import atomwise_tokenizer\n",
    "from SmilesPE.pretokenizer import kmer_tokenizer\n",
    "from SmilesPE.spe2vec import Corpus\n",
    "\n",
    "from sklearn.metrics import accuracy_score\n",
    "from sklearn.metrics import ConfusionMatrixDisplay\n",
    "from sklearn.metrics import classification_report\n",
    "\n",
    "from scipy.cluster.hierarchy import dendrogram, linkage\n",
    "from scipy.spatial.distance import squareform\n",
    "\n",
    "from multiprocessing import Pool\n",
    "\n",
    "from fastai import *\n",
    "from fastai.text import *\n",
    "#from utils import *\n",
    "import torch\n",
    "\n",
    "sys.path.append('../supp_scripts/')\n",
    "import supp_utils as su\n",
    "\n",
    "#torch.cuda.set_device(0) #change to 0 if you only has one GPU\n",
    "# set gpu\n",
    "device = torch.device(\"cuda\" if torch.cuda.is_available() else \"cpu\")\n",
    "device,torch.cuda.is_available()"
   ]
  },
  {
   "cell_type": "code",
   "execution_count": 2,
   "metadata": {},
   "outputs": [],
   "source": [
    "input_file_test = \"test_new_cid.txt\" # Format cid in each line or cid - name in each line\n",
    "\n",
    "Number_of_workers = 8\n",
    "gpu_id = 0\n",
    "if gpu_id != None:\n",
    "    device = \"cuda:\" + str(gpu_id)\n",
    "else:\n",
    "    gpu_id = 0\n",
    "\n",
    "torch.cuda.set_device(device)\n",
    "\n",
    "spe_token_path = \"pretraining_tokens.txt\"\n",
    "\n",
    "tokenization = \"SPE\"\n",
    "\n",
    "pretraining_new_wt = \"_model_clas\"\n",
    "batch_size = 64\n",
    "\n",
    "parameter_filename = \"parameters.json\"\n",
    "parameter_file = open(parameter_filename)\n",
    "parameters = json.load(parameter_file)\n",
    "parameter_file.close()\n",
    "run_folder = parameters[\"run_folder\"]\n",
    "model_path = run_folder + \"/models/\"\n",
    "function_file = \"../data/preprocessed_data/protein_function_\" + str(run_folder.split(\"_\")[-1]) + \".yaml\"\n",
    "cluster_distance_file = \"../data/cluster_results/cluster_distance_\" + str(run_folder.split(\"_\")[-1]) + \".csv\""
   ]
  },
  {
   "cell_type": "code",
   "execution_count": 3,
   "metadata": {},
   "outputs": [],
   "source": [
    "# Ignore warnings\n",
    "warnings.filterwarnings(\"ignore\", category=DeprecationWarning)\n",
    "warnings.filterwarnings(\"ignore\")\n",
    "# To remove rdkit warning\n",
    "lg = RDLogger.logger()\n",
    "lg.setLevel(RDLogger.CRITICAL)"
   ]
  },
  {
   "cell_type": "code",
   "execution_count": 5,
   "metadata": {},
   "outputs": [],
   "source": [
    "###OPTIONAL###\n",
    "# To check whether the cid is present in the training file\n",
    "#train_valid_filename = \"cid_cluster_0.005.txt\"\n",
    "\n",
    "# Read cluster function file\n",
    "with open(function_file, 'r') as stream:\n",
    "    protein_function = yaml.safe_load(stream)\n",
    "    \n",
    "#with open(\"protein_function_0.005_large_sc_all_500.yaml\", 'r') as stream:\n",
    "#    protein_function_large = yaml.safe_load(stream)\n",
    "    \n",
    "cluster_distance = pd.read_csv(cluster_distance_file,header=None,names=[\"cluster1\",\"cluster2\",\"distance\"])"
   ]
  },
  {
   "cell_type": "code",
   "execution_count": 7,
   "metadata": {},
   "outputs": [
    {
     "name": "stderr",
     "output_type": "stream",
     "text": [
      "                                             \r"
     ]
    }
   ],
   "source": [
    "# Reading input cid file and fetching from internet\n",
    "input_cids = []\n",
    "names = []\n",
    "for entry in open(input_file_test,\"r\").readlines():\n",
    "    cid = entry.split()[0]\n",
    "    input_cids.append(cid)\n",
    "    try:\n",
    "        name = entry.split()[1]\n",
    "        if len(entry.split()) > 2:\n",
    "            name = ' '.join(entry.split()[1:])\n",
    "        names.append(name)\n",
    "    except:\n",
    "        pass\n",
    "cid_smiles = su.get_smiles_from_cid(input_cids,type_smiles=\"isomeric\",get_from=\"SDF\",folder_file_name=\"\",save_output=False,remove_sdf=False)\n",
    "test_df = pd.DataFrame([(cid_smiles[cid],cid) for cid in cid_smiles], columns=['Smiles','CID'])"
   ]
  },
  {
   "cell_type": "code",
   "execution_count": 8,
   "metadata": {},
   "outputs": [],
   "source": [
    "# To check whether the cid is present in the training file (If needed uncomment the last line)\n",
    "def check_presence_of_cid_in_train_valid_set(input_cid_list,train_file,valid_file=None):\n",
    "    cid_train = [int(entry.split()[0]) for entry in open(train_valid_filename,\"r\").readlines() if len(entry) > 0]\n",
    "    already_present = []\n",
    "    for cid in input_cid_list:\n",
    "        if cid in cid_train:\n",
    "            already_present.append(cid)\n",
    "    return (already_present,cid_train)\n",
    "\n",
    "#already_present_train,cid_train = check_presence_of_cid_in_train_valid_set(list(map(int,(list(cid_smiles.keys())))),train_valid_filename)\n",
    "\n",
    "def get_accuracy(yhat,y):\n",
    "    softmax = torch.exp(yhat.float())\n",
    "    prob = softmax.cpu().detach().numpy()\n",
    "    predictions = np.argmax(prob, axis=1)\n",
    "    y_truth = y.cpu().detach().numpy()\n",
    "    accuracy_check = (y_truth==predictions)\n",
    "    count = np.count_nonzero(accuracy_check)\n",
    "    accuracy = (count/len(accuracy_check))\n",
    "    return accuracy"
   ]
  },
  {
   "cell_type": "code",
   "execution_count": 9,
   "metadata": {},
   "outputs": [],
   "source": [
    "# Initilizing tokenizer\n",
    "if tokenization == \"SPE\":\n",
    "    MolTokenizer = su.molpmofit.MolTokenizer_spe_sos_eos\n",
    "    tok = Tokenizer(partial(MolTokenizer,token_path=spe_token_path), n_cpus=Number_of_workers, pre_rules=[], post_rules=[])\n",
    "else:\n",
    "    MolTokenizer = su.molpmofit.MolTokenizer_atomwise_sos_eos\n",
    "    tok = Tokenizer(partial(MolTokenizer), n_cpus=Number_of_workers, pre_rules=[], post_rules=[])\n",
    "\n",
    "tok = Tokenizer(partial(MolTokenizer,token_path=spe_token_path), n_cpus=Number_of_workers, pre_rules=[], post_rules=[])"
   ]
  },
  {
   "cell_type": "code",
   "execution_count": 10,
   "metadata": {},
   "outputs": [],
   "source": [
    "with open(run_folder + \"/valid_set.txt\",\"r\") as f:\n",
    "    num_classes = list(set([entry.split()[1] for entry in f]))"
   ]
  },
  {
   "cell_type": "code",
   "execution_count": 11,
   "metadata": {},
   "outputs": [
    {
     "data": {
      "text/html": [],
      "text/plain": [
       "<IPython.core.display.HTML object>"
      ]
     },
     "metadata": {},
     "output_type": "display_data"
    },
    {
     "data": {
      "text/html": [],
      "text/plain": [
       "<IPython.core.display.HTML object>"
      ]
     },
     "metadata": {},
     "output_type": "display_data"
    },
    {
     "name": "stdout",
     "output_type": "stream",
     "text": [
      "You can deactivate this warning by passing `no_check=True`.\n"
     ]
    }
   ],
   "source": [
    "# Reading vocab from the file\n",
    "# The file is output of the training of final model\n",
    "vocab = [vocab_token.strip() for vocab_token in open(\"text_class_vocab.txt\",\"r\").readlines()]\n",
    "vocab_class = text.transform.Vocab(vocab)\n",
    "test_data_clas = TextClasDataBunch.from_df(\"\", test_df, test_df, bs=batch_size, tokenizer=tok, \n",
    "                              chunksize=50000, text_cols='Smiles',label_cols='CID', vocab=vocab_class, max_vocab=60000,\n",
    "                                              include_bos=False,classes=[i for i in range(1,len(num_classes)+1)])"
   ]
  },
  {
   "cell_type": "code",
   "execution_count": 12,
   "metadata": {},
   "outputs": [],
   "source": [
    "# Loading the model\n",
    "learner = text_classifier_learner(test_data_clas, AWD_LSTM, pretrained=False, drop_mult=0.2)\n",
    "learner.model_dir = model_path\n",
    "learner.load('_model_clas', purge=False);"
   ]
  },
  {
   "cell_type": "code",
   "execution_count": 13,
   "metadata": {},
   "outputs": [],
   "source": [
    "# Prediction of clusters\n",
    "cid_prediction = {}\n",
    "\n",
    "for i,cid in enumerate(cid_smiles):\n",
    "    smiles = cid_smiles[cid]\n",
    "    results = learner.predict(smiles)\n",
    "    prob = results[2].cpu().detach().numpy()\n",
    "    predictions = results[1].cpu().detach().numpy().tolist()\n",
    "    if len(names) > 0:\n",
    "        cid_prediction[cid] = {\"prediction\":predictions,\"name\":names[i],\"softmax_probability\":max(prob)}\n",
    "    else:\n",
    "        cid_prediction[cid] = {\"prediction\":predictions,\"softmax_probability\":max(prob)}"
   ]
  },
  {
   "cell_type": "code",
   "execution_count": 14,
   "metadata": {},
   "outputs": [],
   "source": [
    "# Get distance between clusters\n",
    "predicted_clusters = []\n",
    "for cid in cid_prediction:\n",
    "    cluster = cid_prediction[cid][\"prediction\"]\n",
    "    predicted_clusters.append(cluster)\n",
    "\n",
    "cluster_distance_dicts = []\n",
    "for clust1 in predicted_clusters:\n",
    "    for clust2 in predicted_clusters:\n",
    "        if clust1 != clust2:\n",
    "            distance = cluster_distance[((cluster_distance[\"cluster1\"] == clust1) | (cluster_distance[\"cluster2\"] == clust1)) & \\\n",
    "                             ((cluster_distance[\"cluster1\"] == clust2) | (cluster_distance[\"cluster2\"] == clust2))][\"distance\"].tolist()[0]\n",
    "        else:\n",
    "            distance = 0\n",
    "        entry1 = {\"cluster1\":clust1,\"cluster2\":clust2,\"distance\":distance}\n",
    "        entry2 = {\"cluster1\":clust2,\"cluster2\":clust1,\"distance\":distance}\n",
    "        if entry1 not in cluster_distance_dicts:\n",
    "            cluster_distance_dicts.append(entry1)\n",
    "        if entry2 not in cluster_distance_dicts:\n",
    "            cluster_distance_dicts.append(entry2)"
   ]
  },
  {
   "cell_type": "code",
   "execution_count": 15,
   "metadata": {},
   "outputs": [],
   "source": [
    "# Get distance between cids\n",
    "cid_distance_dicts = []\n",
    "for cid1 in cid_prediction:\n",
    "    for cid2 in cid_prediction:\n",
    "        clust1 = cid_prediction[cid1][\"prediction\"]\n",
    "        clust2 = cid_prediction[cid2][\"prediction\"]\n",
    "        for lists in cluster_distance_dicts:\n",
    "            try:\n",
    "                if lists['cluster1'] == clust1 and lists['cluster2'] == clust2:\n",
    "                    distance = lists[\"distance\"]\n",
    "                    cid_distance = {\"cid1\":cid1,\"cid2\":cid2,\"distance\":distance}\n",
    "                    cid_distance_dicts.append(cid_distance)\n",
    "                    break\n",
    "            except:\n",
    "                pass"
   ]
  },
  {
   "cell_type": "code",
   "execution_count": 16,
   "metadata": {},
   "outputs": [],
   "source": [
    "# Make distance matrix\n",
    "cid_distance_matrix = []\n",
    "for cid1 in input_cids:\n",
    "    row_list = []\n",
    "    for cid2 in input_cids:\n",
    "        for lists in cid_distance_dicts:\n",
    "            try:\n",
    "                if lists['cid1'] == int(cid1) and lists['cid2'] == int(cid2):\n",
    "                    distance = lists[\"distance\"]\n",
    "                    if distance == 0 and cid1 != cid2:\n",
    "                        distance += 0.001\n",
    "                    row_list.append(distance)\n",
    "                    break\n",
    "            except:\n",
    "                pass\n",
    "    cid_distance_matrix.append(row_list)\n",
    "dm_array = np.array(cid_distance_matrix)"
   ]
  },
  {
   "cell_type": "code",
   "execution_count": 17,
   "metadata": {},
   "outputs": [
    {
     "data": {
      "image/png": "[encoded data removed]",
      "text/plain": [
       "<Figure size 1200x600 with 1 Axes>"
      ]
     },
     "metadata": {
      "needs_background": "light"
     },
     "output_type": "display_data"
    }
   ],
   "source": [
    "# Plot distance between the chemicals\n",
    "plt.rcParams['figure.figsize'] = [8, 4]\n",
    "plt.rcParams['figure.dpi'] = 150\n",
    "def make_plot(distance_matrix,labels,figure_name=\"chemical_distance.png\"):\n",
    "    dists = squareform(distance_matrix)\n",
    "    links = linkage(dists, \"complete\")\n",
    "    ddata = dendrogram(links, labels=labels,leaf_font_size=12,orientation=\"left\") \n",
    "    for i, d in zip(ddata['icoord'], ddata['dcoord']):\n",
    "            y = 0.5 * sum(i[1:3])\n",
    "            x = d[1]\n",
    "            if x > 0.001:\n",
    "                #plt.plot(x, y, 'ro')\n",
    "                plt.annotate(\"%.3g\" % x, (x, y), xytext=(0, +12),\n",
    "                                 textcoords='offset points',\n",
    "                                 va='top', ha='center',fontsize=12)\n",
    "\n",
    "    plt.xlabel(\"Distance\",fontsize=12)\n",
    "    plt.ylabel(\"Chemicals\",fontsize=12)\n",
    "    plt.title(\"Chemical distance\",fontsize=15)#, orientation='left'\n",
    "    plt.savefig(figure_name)\n",
    "    plt.show()\n",
    "    \n",
    "make_plot(dm_array,input_cids,\"chemical_distance_cids.png\")"
   ]
  },
  {
   "cell_type": "code",
   "execution_count": 18,
   "metadata": {},
   "outputs": [],
   "source": [
    "# If names are given, plot with names\n",
    "if len(names) > 0:\n",
    "    make_plot(dm_array,names,\"chemical_distance_names.png\")"
   ]
  },
  {
   "cell_type": "code",
   "execution_count": 19,
   "metadata": {},
   "outputs": [],
   "source": [
    "# Club cluster prediction of same kind\n",
    "cluster_cid = {}\n",
    "for cid in cid_prediction:\n",
    "    predicted_cluster = cid_prediction[cid][\"prediction\"]\n",
    "    if predicted_cluster not in cluster_cid:\n",
    "        cluster_cid[predicted_cluster] = []\n",
    "    cluster_cid[predicted_cluster].append(cid)"
   ]
  },
  {
   "cell_type": "code",
   "execution_count": 20,
   "metadata": {},
   "outputs": [],
   "source": [
    "# Get function of the cluster\n",
    "def get_function_from_prediction(protein_function_file):\n",
    "    for cluster in cluster_cid:\n",
    "        cids = cluster_cid[cluster]\n",
    "        print (\"CIDs = \" + str(cids)[1:-1])\n",
    "        if len(names) > 0:\n",
    "            chemical_names = []\n",
    "            for cid in cids:\n",
    "                index = input_cids.index(str(cid))\n",
    "                chemical_names.append(names[index])\n",
    "            print (\"Chemical names = \" + str(chemical_names)[1:-1])\n",
    "        print (\"Cluster predicted= \" + str(cluster))\n",
    "        print (\"\\nFunction\\n\")\n",
    "        for i,entry in enumerate(protein_function_file[cluster]):\n",
    "            print (str(i+1) + \".) \" + str(entry)[1:-1] + \"\\n\")\n",
    "        print (\"\\n\\n\\n\")"
   ]
  },
  {
   "cell_type": "code",
   "execution_count": 21,
   "metadata": {},
   "outputs": [
    {
     "data": {
      "text/plain": [
       "{1: {'prediction': 6, 'softmax_probability': 0.3385649},\n",
       " 6: {'prediction': 12, 'softmax_probability': 0.13961083},\n",
       " 1234: {'prediction': 12, 'softmax_probability': 0.21167856},\n",
       " 432: {'prediction': 0, 'softmax_probability': 0.28763965},\n",
       " 66: {'prediction': 3, 'softmax_probability': 0.28418657},\n",
       " 8453: {'prediction': 8, 'softmax_probability': 0.23615204},\n",
       " 65786: {'prediction': 0, 'softmax_probability': 0.1759696}}"
      ]
     },
     "execution_count": 21,
     "metadata": {},
     "output_type": "execute_result"
    }
   ],
   "source": [
    "# PrWedictions\n",
    "cid_prediction"
   ]
  },
  {
   "cell_type": "code",
   "execution_count": 22,
   "metadata": {},
   "outputs": [
    {
     "name": "stdout",
     "output_type": "stream",
     "text": [
      "CIDs = 1\n",
      "Cluster predicted= 6\n",
      "\n",
      "Function\n",
      "\n",
      "1.) 'count': 64, 'frequency': 0.9552238805970149, 'function': 'Acetylcholinesterase; Terminates signal transduction at the neuromuscular junction by rapid hydrolysis of the acetylcholine released into the synaptic cleft. Role in neuronal apoptosis; Belongs to the type-B carboxylesterase/lipase family', 'protein': 'ENSP00000303211'\n",
      "\n",
      "2.) 'count': 3, 'frequency': 0.04477611940298507, 'function': 'Neuropathy target esterase; Phospholipase B that deacylates intracellular phosphatidylcholine (PtdCho), generating glycerophosphocholine (GroPtdCho). This deacylation occurs at both sn-2 and sn-1 positions of PtdCho. Its specific chemical modification by certain organophosphorus (OP) compounds leads to distal axonopathy; Patatin like phospholipase domain containing', 'protein': 'ENSP00000407509'\n",
      "\n",
      "\n",
      "\n",
      "\n",
      "\n",
      "CIDs = 6, 1234\n",
      "Cluster predicted= 12\n",
      "\n",
      "Function\n",
      "\n",
      "1.) 'count': 68, 'frequency': 0.918918918918919, 'function': \"Caspase-3; Involved in the activation cascade of caspases responsible for apoptosis execution. At the onset of apoptosis it proteolytically cleaves poly(ADP-ribose) polymerase (PARP) at a '216-Asp-|-Gly-217' bond. Cleaves and activates sterol regulatory element binding proteins (SREBPs) between the basic helix-loop- helix leucine zipper domain and the membrane attachment domain. Cleaves and activates caspase-6, -7 and -9. Involved in the cleavage of huntingtin. Triggers cell adhesion in sympathetic neurons through RET cleavage\", 'protein': 'ENSP00000311032'\n",
      "\n",
      "2.) 'count': 3, 'frequency': 0.04054054054054054, 'function': \"Caspase-7; Involved in the activation cascade of caspases responsible for apoptosis execution. Cleaves and activates sterol regulatory element binding proteins (SREBPs). Proteolytically cleaves poly(ADP-ribose) polymerase (PARP) at a '216-Asp-|-Gly- 217' bond. Overexpression promotes programmed cell death\", 'protein': 'ENSP00000358327'\n",
      "\n",
      "3.) 'count': 1, 'frequency': 0.013513513513513514, 'function': 'Iodotyrosine deiodinase 1; Catalyzes the oxidative NADPH-dependent deiodination of monoiodotyrosine (L-MIT) or diiodotyrosine (L-DIT). Acts during the hydrolysis of thyroglobulin to liberate iodide, which can then reenter the hormone-producing pathways. Acts more efficiently on monoiodotyrosine than on diiodotyrosine; Belongs to the nitroreductase family', 'protein': 'ENSP00000229447'\n",
      "\n",
      "4.) 'count': 1, 'frequency': 0.013513513513513514, 'function': \"Heat shock factor protein 1; Function as a stress-inducible and DNA-binding transcription factor that plays a central role in the transcriptional activation of the heat shock response (HSR), leading to the expression of a large class of molecular chaperones heat shock proteins (HSPs) that protect cells from cellular insults' damage. In unstressed cells, is present in a HSP90-containing multichaperone complex that maintains it in a non-DNA-binding inactivated monomeric form. Upon exposure to heat and other stress stimuli, undergoes homotrimerization and activates HSP gene transcription  [...] \", 'protein': 'ENSP00000431512'\n",
      "\n",
      "5.) 'count': 1, 'frequency': 0.013513513513513514, 'function': 'Bile acid receptor; Isoform 4: Promotes transcriptional activation of target genes ABCB11/BSEP (inducible by unconjugated CDCA, ACA and DCA), NR0B2/SHP (inducible by unconjugated CDCA, ACA and DCA), SLC51B/OSTB (inducible by unconjugated CDCA and DCA) and FABP6/IBAP; most efficient isoform compared to isoforms 1 to 3; not inducible by taurine- and glycine-amidated CDCA; Belongs to the nuclear hormone receptor family. NR1 subfamily', 'protein': 'ENSP00000447149'\n",
      "\n",
      "\n",
      "\n",
      "\n",
      "\n",
      "CIDs = 432, 65786\n",
      "Cluster predicted= 0\n",
      "\n",
      "Function\n",
      "\n",
      "1.) 'count': 23, 'frequency': 0.12921348314606743, 'function': 'Methionine aminopeptidase 2; Cotranslationally removes the N-terminal methionine from nascent proteins. The N-terminal methionine is often cleaved when the second residue in the primary sequence is small and uncharged (Met-Ala-, Cys, Gly, Pro, Ser, Thr, or Val). The catalytic activity of human METAP2 toward Met-Val peptides is consistently two orders of magnitude higher than that of METAP1, suggesting that it is responsible for processing proteins containing N- terminal Met-Val and Met-Thr sequences in vivo; Belongs to the peptidase M24A family. Methionine aminopeptidase eukaryotic typ [...] ', 'protein': 'ENSP00000325312'\n",
      "\n",
      "2.) 'count': 8, 'frequency': 0.0449438202247191, 'function': 'Dihydrofolate reductase 2, mitochondrial; Key enzyme in folate metabolism. Contributes to the de novo mitochondrial thymidylate biosynthesis pathway. Required to prevent uracil accumulation in mtDNA. Binds its own mRNA and that of DHFR', 'protein': 'ENSP00000319170'\n",
      "\n",
      "3.) 'count': 7, 'frequency': 0.03932584269662921, 'function': 'Glycylpeptide N-tetradecanoyltransferase 2; Adds a myristoyl group to the N-terminal glycine residue of certain cellular and viral proteins', 'protein': 'ENSP00000367407'\n",
      "\n",
      "4.) 'count': 7, 'frequency': 0.03932584269662921, 'function': 'Epididymal-specific lipocalin-9; Lipocalin 9; Lipocalins', 'protein': 'ENSP00000277526'\n",
      "\n",
      "5.) 'count': 7, 'frequency': 0.03932584269662921, 'function': 'Disintegrin and metalloproteinase domain-containing protein 28; May play a role in the adhesive and proteolytic events that occur during lymphocyte emigration or may function in ectodomain shedding of lymphocyte surface target proteins, such as FASL and CD40L. May be involved in sperm maturation; ADAM metallopeptidase domain containing', 'protein': 'ENSP00000265769'\n",
      "\n",
      "6.) 'count': 6, 'frequency': 0.033707865168539325, 'function': '3-oxo-5-beta-steroid 4-dehydrogenase; Efficiently catalyzes the reduction of progesterone, androstenedione, 17-alpha-hydroxyprogesterone and testosterone to 5-beta-reduced metabolites. The bile acid intermediates 7- alpha,12-alpha-dihydroxy-4-cholesten-3-one and 7-alpha-hydroxy-4- cholesten-3-one can also act as substrates; Aldo-keto reductases', 'protein': 'ENSP00000242375'\n",
      "\n",
      "7.) 'count': 6, 'frequency': 0.033707865168539325, 'function': 'Lactase-like protein; Lactase like; Belongs to the glycosyl hydrolase 1 family. Klotho subfamily', 'protein': 'ENSP00000343490'\n",
      "\n",
      "8.) 'count': 5, 'frequency': 0.028089887640449437, 'function': 'NADH dehydrogenase (ubiquinone) complex I, assembly factor 6; Involved in the assembly of mitochondrial NADH:ubiquinone oxidoreductase complex (complex I) at early stages. May play a role in the biogenesis of MT-ND1', 'protein': 'ENSP00000379430'\n",
      "\n",
      "9.) 'count': 5, 'frequency': 0.028089887640449437, 'function': 'Tryptase alpha/beta-1; Tryptase is the major neutral protease present in mast cells and is secreted upon the coupled activation-degranulation response of this cell type. May play a role in innate immunity. Isoform 2 cleaves large substrates, such as fibronectin, more efficiently than isoform 1, but seems less efficient toward small substrates; Belongs to the peptidase S1 family. Tryptase subfamily', 'protein': 'ENSP00000343577'\n",
      "\n",
      "10.) 'count': 4, 'frequency': 0.02247191011235955, 'function': 'Glutathione S-transferase theta-2B; Conjugation of reduced glutathione to a wide number of exogenous and endogenous hydrophobic electrophiles. Has a sulfatase activity; Soluble glutathione S-transferases', 'protein': 'ENSP00000248935'\n",
      "\n",
      "11.) 'count': 4, 'frequency': 0.02247191011235955, 'function': '3 beta-hydroxysteroid dehydrogenase type 7; The 3-beta-HSD enzymatic system plays a crucial role in the biosynthesis of all classes of hormonal steroids. HSD VII is active against four 7-alpha-hydroxylated sterols. Does not metabolize several different C(19/21) steroids as substrates. Involved in bile acid synthesis. Plays a key role in cell positioning and movement in lymphoid tissues by mediating degradation of 7-alpha,25-dihydroxycholesterol (7- alpha,25-OHC): 7-alpha,25-OHC acts as a ligand for the G protein- coupled receptor GPR183/EBI2, a chemotactic receptor for a number of lymp [...] ', 'protein': 'ENSP00000297679'\n",
      "\n",
      "12.) 'count': 4, 'frequency': 0.02247191011235955, 'function': 'Prenylcysteine oxidase 1; Involved in the degradation of prenylated proteins. Cleaves the thioether bond of prenyl-L-cysteines, such as farnesylcysteine and geranylgeranylcysteine', 'protein': 'ENSP00000387654'\n",
      "\n",
      "13.) 'count': 3, 'frequency': 0.016853932584269662, 'function': 'Spermine oxidase; Flavoenzyme which catalyzes the oxidation of spermine to spermidine. Can also use N(1)-acetylspermine and spermidine as substrates, with different affinity depending on the isoform (isozyme) and on the experimental conditions. Plays an important role in the regulation of polyamine intracellular concentration and has the potential to act as a determinant of cellular sensitivity to the antitumor polyamine analogs. May contribute to beta-alanine production via aldehyde dehydrogenase conversion of 3-amino-propanal; Belongs to the flavin monoamine oxidase family', 'protein': 'ENSP00000307252'\n",
      "\n",
      "14.) 'count': 3, 'frequency': 0.016853932584269662, 'function': 'Probable allantoicase; The function of this enzyme is unclear as allantoicase activity is not known to exist in mammals', 'protein': 'ENSP00000252505'\n",
      "\n",
      "15.) 'count': 3, 'frequency': 0.016853932584269662, 'function': 'Putative 2-oxo-4-hydroxy-4-carboxy-5-ureidoimidazoline decarboxylase; Catalyzes the stereoselective decarboxylation of 2-oxo- 4-hydroxy-4-carboxy-5-ureidoimidazoline (OHCU) to (S)-allantoin', 'protein': 'ENSP00000333490'\n",
      "\n",
      "16.) 'count': 3, 'frequency': 0.016853932584269662, 'function': \"N-acylneuraminate cytidylyltransferase; Catalyzes the activation of N-acetylneuraminic acid (NeuNAc) to cytidine 5'-monophosphate N-acetylneuraminic acid (CMP-NeuNAc), a substrate required for the addition of sialic acid. Has some activity toward NeuNAc, N-glycolylneuraminic acid (Neu5Gc) or 2-keto-3-deoxy-D-glycero-D-galacto-nononic acid (KDN)\", 'protein': 'ENSP00000229329'\n",
      "\n",
      "17.) 'count': 3, 'frequency': 0.016853932584269662, 'function': 'Aldo-keto reductase family 1 member B10; Acts as all-trans-retinaldehyde reductase. Can efficiently reduce aliphatic and aromatic aldehydes, and is less active on hexoses (in vitro). May be responsible for detoxification of reactive aldehydes in the digested food before the nutrients are passed on to other organs', 'protein': 'ENSP00000352584'\n",
      "\n",
      "18.) 'count': 2, 'frequency': 0.011235955056179775, 'function': 'Taste receptor type 1 member 2; Putative taste receptor. TAS1R2/TAS1R3 recognizes diverse natural and synthetic sweeteners', 'protein': 'ENSP00000364520'\n",
      "\n",
      "19.) 'count': 2, 'frequency': 0.011235955056179775, 'function': 'Dipeptidase 1; Hydrolyzes a wide range of dipeptides. Implicated in the renal metabolism of glutathione and its conjugates. Converts leukotriene D4 to leukotriene E4; it may play an important role in the regulation of leukotriene activity', 'protein': 'ENSP00000261615'\n",
      "\n",
      "20.) 'count': 2, 'frequency': 0.011235955056179775, 'function': 'Chymotrypsin-like elastase family member 2A; Acts upon elastin', 'protein': 'ENSP00000352639'\n",
      "\n",
      "21.) 'count': 2, 'frequency': 0.011235955056179775, 'function': 'Peptidoglycan recognition protein 3; Pattern receptor that binds to murein peptidoglycans (PGN) of Gram-positive bacteria. Has bactericidal activity towards Gram-positive bacteria. May kill Gram-positive bacteria by interfering with peptidoglycan biosynthesis. Binds also to Gram- negative bacteria, and has bacteriostatic activity towards Gram- negative bacteria. Plays a role in innate immunity; Belongs to the N-acetylmuramoyl-L-alanine amidase 2 family', 'protein': 'ENSP00000290722'\n",
      "\n",
      "22.) 'count': 2, 'frequency': 0.011235955056179775, 'function': 'Endoplasmic reticulum mannosyl-oligosaccharide 1,2-alpha-mannosidase; Involved in glycoprotein quality control targeting of misfolded glycoproteins for degradation. It primarily trims a single alpha-1,2-linked mannose residue from Man(9)GlcNAc(2) to produce Man(8)GlcNAc(2), but at high enzyme concentrations, as found in the ER quality control compartment (ERQC), it further trims the carbohydrates to Man(5-6)GlcNAc(2)', 'protein': 'ENSP00000360645'\n",
      "\n",
      "23.) 'count': 2, 'frequency': 0.011235955056179775, 'function': 'D-dopachrome decarboxylase; Tautomerization of D-dopachrome with decarboxylation to give 5,6-dihydroxyindole (DHI)', 'protein': 'ENSP00000215773'\n",
      "\n",
      "24.) 'count': 2, 'frequency': 0.011235955056179775, 'function': 'Neuron-specific vesicular protein calcyon; Interacts with clathrin light chain A and stimulates clathrin self-assembly and clathrin-mediated endocytosis', 'protein': 'ENSP00000252939'\n",
      "\n",
      "25.) 'count': 2, 'frequency': 0.011235955056179775, 'function': 'Not found', 'protein': 'ENSP00000471024'\n",
      "\n",
      "26.) 'count': 2, 'frequency': 0.011235955056179775, 'function': 'Taste receptor type 1 member 3; Putative taste receptor. TAS1R1/TAS1R3 responds to the umami taste stimulus (the taste of monosodium glutamate). TAS1R2/TAS1R3 recognizes diverse natural and synthetic sweeteners. TAS1R3 is essential for the recognition and response to the disaccharide trehalose (By similarity). Sequence differences within and between species can significantly influence the selectivity and specificity of taste responses', 'protein': 'ENSP00000344411'\n",
      "\n",
      "27.) 'count': 2, 'frequency': 0.011235955056179775, 'function': 'Lambda-crystallin homolog; Crystallin lambda 1', 'protein': 'ENSP00000298248'\n",
      "\n",
      "28.) 'count': 2, 'frequency': 0.011235955056179775, 'function': 'Gamma-aminobutyric acid type B receptor subunit 1; Component of a heterodimeric G-protein coupled receptor for GABA, formed by GABBR1 and GABBR2. Within the heterodimeric GABA receptor, only GABBR1 seems to bind agonists, while GABBR2 mediates coupling to G proteins. Ligand binding causes a conformation change that triggers signaling via guanine nucleotide-binding proteins (G proteins) and modulates the activity of down-stream effectors, such as adenylate cyclase. Signaling inhibits adenylate cyclase, stimulates phospholipase A2, activates potassium channels, inactivates voltage-depend [...] ', 'protein': 'ENSP00000366233'\n",
      "\n",
      "29.) 'count': 2, 'frequency': 0.011235955056179775, 'function': '24-hydroxycholesterol 7-alpha-hydroxylase; Involved in the bile acid metabolism. Has a preference for 24-hydroxycholesterol, and converts it into a 7-alpha- hydroxylated product; Cytochrome P450 family 39', 'protein': 'ENSP00000275016'\n",
      "\n",
      "30.) 'count': 2, 'frequency': 0.011235955056179775, 'function': 'Peptide deformylase, mitochondrial; Removes the formyl group from the N-terminal Met of newly synthesized proteins; Belongs to the polypeptide deformylase family', 'protein': 'ENSP00000288022'\n",
      "\n",
      "31.) 'count': 2, 'frequency': 0.011235955056179775, 'function': 'Aggrecan core protein; This proteoglycan is a major component of extracellular matrix of cartilagenous tissues. A major function of this protein is to resist compression in cartilage. It binds avidly to hyaluronic acid via an N-terminal globular region; C-type lectin domain containing', 'protein': 'ENSP00000387356'\n",
      "\n",
      "32.) 'count': 2, 'frequency': 0.011235955056179775, 'function': \"Serine protease inhibitor Kazal-type 6; Serine protease inhibitor selective for kallikreins. Efficiently inhibits KLK4, KLK5, KLK6, KLK7, KLK12, KLK13 and KLK14. Doesn't inhibit KLK8; Serine peptidase inhibitors, Kazal type\", 'protein': 'ENSP00000324870'\n",
      "\n",
      "33.) 'count': 2, 'frequency': 0.011235955056179775, 'function': 'Gamma-aminobutyric acid type B receptor subunit 2; Component of a heterodimeric G-protein coupled receptor for GABA, formed by GABBR1 and GABBR2. Within the heterodimeric GABA receptor, only GABBR1 seems to bind agonists, while GABBR2 mediates coupling to G proteins. Ligand binding causes a conformation change that triggers signaling via guanine nucleotide-binding proteins (G proteins) and modulates the activity of down-stream effectors, such as adenylate cyclase. Signaling inhibits adenylate cyclase, stimulates phospholipase A2, activates potassium channels, inactivates voltage-depend [...] ', 'protein': 'ENSP00000259455'\n",
      "\n",
      "34.) 'count': 2, 'frequency': 0.011235955056179775, 'function': 'N(4)-(beta-N-acetylglucosaminyl)-L-asparaginase; Cleaves the GlcNAc-Asn bond which joins oligosaccharides to the peptide of asparagine-linked glycoproteins; Belongs to the Ntn-hydrolase family', 'protein': 'ENSP00000264595'\n",
      "\n",
      "35.) 'count': 2, 'frequency': 0.011235955056179775, 'function': 'Tolloid-like protein 2; Protease which specifically processes pro-lysyl oxidase. Required for the embryonic development. Predominant protease, which in the development, influences dorsal-ventral patterning and skeletogenesis; Astacins', 'protein': 'ENSP00000350630'\n",
      "\n",
      "36.) 'count': 1, 'frequency': 0.0056179775280898875, 'function': 'Cytochrome P450 4B1; Cytochromes P450 are a group of heme-thiolate monooxygenases. In liver microsomes, this enzyme is involved in an NADPH-dependent electron transport pathway. It oxidizes a variety of structurally unrelated compounds, including steroids, fatty acids, and xenobiotics', 'protein': 'ENSP00000360991'\n",
      "\n",
      "37.) 'count': 1, 'frequency': 0.0056179775280898875, 'function': 'Complement factor B; Uncharacterized protein; cDNA FLJ55673, highly similar to Complement factor B  ; Belongs to the peptidase S1 family', 'protein': 'ENSP00000410815'\n",
      "\n",
      "38.) 'count': 1, 'frequency': 0.0056179775280898875, 'function': 'Trace amine-associated receptor 5; Olfactory receptor specific for trimethylamine, a trace amine. Also activated at lower level by dimethylethylamine. Trimethylamine is a bacterial metabolite found in some animal odors, and to humans it is a repulsive odor associated with bad breath and spoiled food. This receptor is probably mediated by the G(s)-class of G-proteins which activate adenylate cyclase', 'protein': 'ENSP00000258034'\n",
      "\n",
      "39.) 'count': 1, 'frequency': 0.0056179775280898875, 'function': 'Scavenger receptor class A member 5; Ferritin receptor that mediates non-transferrin- dependent delivery of iron. Mediates cellular uptake of ferritin- bound iron by stimulating ferritin endocytosis from the cell surface with consequent iron delivery within the cell. Delivery of iron to cells by ferritin is required for the development of specific cell types, suggesting the existence of cell type- specific mechanisms of iron traffic in organogenesis, which alternatively utilize transferrin or non-transferrin iron delivery pathways. Ferritin mediates iron uptake in capsule cells of the  [...] ', 'protein': 'ENSP00000346990'\n",
      "\n",
      "40.) 'count': 1, 'frequency': 0.0056179775280898875, 'function': 'NADPH--cytochrome P450 reductase; This enzyme is required for electron transfer from NADP to cytochrome P450 in microsomes. It can also provide electron transfer to heme oxygenase and cytochrome B5; Belongs to the NADPH--cytochrome P450 reductase family', 'protein': 'ENSP00000419970'\n",
      "\n",
      "41.) 'count': 1, 'frequency': 0.0056179775280898875, 'function': 'NAD-dependent protein deacylase sirtuin-5, mitochondrial; NAD-dependent lysine demalonylase, desuccinylase and deglutarylase that specifically removes malonyl, succinyl and glutaryl groups on target proteins. Activates CPS1 and contributes to the regulation of blood ammonia levels during prolonged fasting: acts by mediating desuccinylation and deglutarylation of CPS1, thereby increasing CPS1 activity in response to elevated NAD levels during fasting. Activates SOD1 by mediating its desuccinylation, leading to reduced reactive oxygen species. Modulates ketogenesis through the desuccinyl [...] ', 'protein': 'ENSP00000368552'\n",
      "\n",
      "42.) 'count': 1, 'frequency': 0.0056179775280898875, 'function': 'Indoleamine 2,3-dioxygenase 1; Catalyzes the first and rate limiting step of the catabolism of the essential amino acid tryptophan along the kynurenine pathway. Involved in the peripheral immune tolerance, contributing to maintain homeostasis by preventing autoimmunity or immunopathology that would result from uncontrolled and overreacting immune responses. Tryptophan shortage inhibits T lymphocytes division and accumulation of tryptophan catabolites induces T-cell apoptosis and differentiation of regulatory T-cells. Acts as a suppressor of anti-tumor immunity. Limits the growth of int [...] ', 'protein': 'ENSP00000430505'\n",
      "\n",
      "43.) 'count': 1, 'frequency': 0.0056179775280898875, 'function': 'Hephaestin-like protein 1; May function as a ferroxidase and may be involved in copper transport and homeostasis', 'protein': 'ENSP00000313699'\n",
      "\n",
      "44.) 'count': 1, 'frequency': 0.0056179775280898875, 'function': 'ATP-sensitive inward rectifier potassium channel 15; Inward rectifier potassium channels are characterized by a greater tendency to allow potassium to flow into the cell rather than out of it. Their voltage dependence is regulated by the concentration of extracellular potassium; as external potassium is raised, the voltage range of the channel opening shifts to more positive voltages. The inward rectification is mainly due to the blockage of outward current by internal magnesium; Belongs to the inward rectifier-type potassium channel (TC 1.A.2.1) family. KCNJ15 subfamily', 'protein': 'ENSP00000331698'\n",
      "\n",
      "45.) 'count': 1, 'frequency': 0.0056179775280898875, 'function': 'N-acylneuraminate-9-phosphatase; Haloacid dehalogenase like hydrolase domain containing; HAD Asp-based non-protein phosphatases', 'protein': 'ENSP00000302441'\n",
      "\n",
      "46.) 'count': 1, 'frequency': 0.0056179775280898875, 'function': 'Cathepsin L2; Cysteine protease. May have an important role in corneal physiology; Belongs to the peptidase C1 family', 'protein': 'ENSP00000259470'\n",
      "\n",
      "47.) 'count': 1, 'frequency': 0.0056179775280898875, 'function': '4-hydroxy-2-oxoglutarate aldolase, mitochondrial; Catalyzes the final step in the metabolic pathway of hydroxyproline', 'protein': 'ENSP00000359680'\n",
      "\n",
      "48.) 'count': 1, 'frequency': 0.0056179775280898875, 'function': 'Alkaline ceramidase 3; Hydrolyzes only phytoceramide into phytosphingosine and free fatty acid. Does not have reverse activity; Alkaline ceramidases', 'protein': 'ENSP00000434480'\n",
      "\n",
      "49.) 'count': 1, 'frequency': 0.0056179775280898875, 'function': 'Galectin-7; Could be involved in cell-cell and/or cell-matrix interactions necessary for normal growth control. Pro-apoptotic protein that functions intracellularly upstream of JNK activation and cytochrome c release; Galectins', 'protein': 'ENSP00000367891'\n",
      "\n",
      "50.) 'count': 1, 'frequency': 0.0056179775280898875, 'function': 'Prostaglandin reductase 2; Functions as 15-oxo-prostaglandin 13-reductase and acts on 15-keto-PGE1, 15-keto-PGE2, 15-keto-PGE1-alpha and 15-keto- PGE2-alpha with highest activity towards 15-keto-PGE2. Overexpression represses transcriptional activity of PPARG and inhibits adipocyte differentiation (By similarity)', 'protein': 'ENSP00000267568'\n",
      "\n",
      "51.) 'count': 1, 'frequency': 0.0056179775280898875, 'function': 'Serine protease hepsin; Serine protease that cleaves extracellular substrates, and contributes to the proteolytic processing of growth factors, such as HGF and MST1/HGFL. Plays a role in cell growth and maintenance of cell morphology. Plays a role in the proteolytic processing of ACE2. Mediates the proteolytic cleavage of urinary UMOD that is required for UMOD polymerization; Belongs to the peptidase S1 family', 'protein': 'ENSP00000262626'\n",
      "\n",
      "52.) 'count': 1, 'frequency': 0.0056179775280898875, 'function': 'GPI-linked NAD(P)(+)--arginine ADP-ribosyltransferase 1; Has ADP-ribosyltransferase activity toward GLP1R; CD molecules', 'protein': 'ENSP00000250693'\n",
      "\n",
      "53.) 'count': 1, 'frequency': 0.0056179775280898875, 'function': 'Receptor-type tyrosine-protein phosphatase S; Cell surface receptor that binds to glycosaminoglycans, including chondroitin sulfate proteoglycans and heparan sulfate proteoglycan. Binding to chondroitin sulfate and heparan sulfate proteoglycans has opposite effects on PTPRS oligomerization and regulation of neurite outgrowth. Contributes to the inhibition of neurite and axonal outgrowth by chondroitin sulfate proteoglycans, also after nerve transection. Plays a role in stimulating neurite outgrowth in response to the heparan sulfate proteoglycan GPC2. Required for normal brain developm [...] ', 'protein': 'ENSP00000349932'\n",
      "\n",
      "54.) 'count': 1, 'frequency': 0.0056179775280898875, 'function': 'Phosphoethanolamine/phosphocholine phosphatase; Phosphatase that has a high activity toward phosphoethanolamine (PEA) and phosphocholine (PCho). Involved in the generation of inorganic phosphate for bone mineralization; HAD Asp-based non-protein phosphatases', 'protein': 'ENSP00000406909'\n",
      "\n",
      "55.) 'count': 1, 'frequency': 0.0056179775280898875, 'function': 'Vitamin D 25-hydroxylase; Has a D-25-hydroxylase activity on both forms of vitamin D, vitamin D(2) and D(3); Cytochrome P450 family 2', 'protein': 'ENSP00000334592'\n",
      "\n",
      "56.) 'count': 1, 'frequency': 0.0056179775280898875, 'function': 'NmrA-like family domain-containing protein 1; Redox sensor protein. Undergoes restructuring and subcellular redistribution in response to changes in intracellular NADPH/NADP(+) levels. At low NADPH concentrations the protein is found mainly as a monomer, and binds argininosuccinate synthase (ASS1), the enzyme involved in nitric oxide synthesis. Association with ASS1 impairs its activity and reduces the production of nitric oxide, which subsecuently prevents apoptosis. Under normal NADPH concentrations, the protein is found as a dimer and hides the binding site for ASS1. The homodimer b [...] ', 'protein': 'ENSP00000283429'\n",
      "\n",
      "57.) 'count': 1, 'frequency': 0.0056179775280898875, 'function': 'Calcium/calmodulin-dependent protein kinase type 1G; Calcium/calmodulin-dependent protein kinase belonging to a proposed calcium-triggered signaling cascade. In vitro phosphorylates transcription factor CREB1 (By similarity); Belongs to the protein kinase superfamily. CAMK Ser/Thr protein kinase family. CaMK subfamily', 'protein': 'ENSP00000009105'\n",
      "\n",
      "58.) 'count': 1, 'frequency': 0.0056179775280898875, 'function': 'Lectin, galactoside-binding, soluble, 7B; Could be involved in cell-cell and/or cell-matrix interactions necessary for normal growth control. Pro-apoptotic protein that functions intracellularly upstream of JNK activation and cytochrome c release; Galectins', 'protein': 'ENSP00000313571'\n",
      "\n",
      "59.) 'count': 1, 'frequency': 0.0056179775280898875, 'function': 'Cytochrome P450 family 4 subfamily Z member 1', 'protein': 'ENSP00000334246'\n",
      "\n",
      "60.) 'count': 1, 'frequency': 0.0056179775280898875, 'function': \"Aurora kinase C; Serine/threonine-protein kinase component of the chromosomal passenger complex (CPC), a complex that acts as a key regulator of mitosis. The CPC complex has essential functions at the centromere in ensuring correct chromosome alignment and segregation and is required for chromatin-induced microtubule stabilization and spindle assembly. Plays also a role in meiosis and more particularly in spermatogenesis. Has redundant cellular functions with AURKB and can rescue an AURKB knockdown. Like AURKB, AURKC phosphorylates histone H3 at 'Ser-10' and 'Ser-28'. AURKC phosphoryla [...] \", 'protein': 'ENSP00000302898'\n",
      "\n",
      "61.) 'count': 1, 'frequency': 0.0056179775280898875, 'function': 'Cancer-related nucleoside-triphosphatase; Has nucleotide phosphatase activity towards ATP, GTP, CTP, TTP and UTP. Hydrolyzes nucleoside diphosphates with lower efficiency; Belongs to the THEP1 NTPase family', 'protein': 'ENSP00000355587'\n",
      "\n",
      "62.) 'count': 1, 'frequency': 0.0056179775280898875, 'function': 'Complement factor B; Factor B which is part of the alternate pathway of the complement system is cleaved by factor D into 2 fragments: Ba and Bb. Bb, a serine protease, then combines with complement factor 3b to generate the C3 or C5 convertase. It has also been implicated in proliferation and differentiation of preactivated B- lymphocytes, rapid spreading of peripheral blood monocytes, stimulation of lymphocyte blastogenesis and lysis of erythrocytes. Ba inhibits the proliferation of preactivated B-lymphocytes; Belongs to the peptidase S1 family', 'protein': 'ENSP00000416561'\n",
      "\n",
      "63.) 'count': 1, 'frequency': 0.0056179775280898875, 'function': 'Transient receptor potential cation channel subfamily V member 1; Ligand-activated non-selective calcium permeant cation channel involved in detection of noxious chemical and thermal stimuli. Seems to mediate proton influx and may be involved in intracellular acidosis in nociceptive neurons. Involved in mediation of inflammatory pain and hyperalgesia. Sensitized by a phosphatidylinositol second messenger system activated by receptor tyrosine kinases, which involves PKC isozymes and PCL. Activation by vanilloids, like capsaicin, and temperatures higher than 42 degrees Celsius, exhibits  [...] ', 'protein': 'ENSP00000382659'\n",
      "\n",
      "64.) 'count': 1, 'frequency': 0.0056179775280898875, 'function': \"Carbohydrate sulfotransferase 6; Sulfotransferase that utilizes 3'-phospho-5'-adenylyl sulfate (PAPS) as sulfonate donor to catalyze the transfer of sulfate to position 6 of non-reducing N-acetylglucosamine (GlcNAc) residues of keratan. Mediates sulfation of keratan in cornea. Keratan sulfate plays a central role in maintaining corneal transparency. Acts on the non-reducing terminal GlcNAc of short and long carbohydrate substrates that have poly-N- acetyllactosamine structures; Belongs to the sulfotransferase 1 family. Gal/GlcNAc/GalNAc subfamily\", 'protein': 'ENSP00000328983'\n",
      "\n",
      "65.) 'count': 1, 'frequency': 0.0056179775280898875, 'function': 'Neutral ceramidase; Hydrolyzes the sphingolipid ceramide into sphingosine and free fatty acid at an optimal pH of 6.5-8.5. Acts as a key regulator of sphingolipid signaling metabolites by generating sphingosine at the cell surface. Acts as a repressor of apoptosis both by reducing C16-ceramide, thereby preventing ceramide-induced apoptosis, and generating sphingosine, a precursor of the antiapoptotic factor sphingosine 1-phosphate. Probably involved in the digestion of dietary sphingolipids in intestine by acting as a key enzyme for the catabolism of dietary sphingolipids and regulatin [...] ', 'protein': 'ENSP00000378897'\n",
      "\n",
      "66.) 'count': 1, 'frequency': 0.0056179775280898875, 'function': 'Sodium-dependent phosphate transporter 1; Sodium-phosphate symporter which plays a fundamental housekeeping role in phosphate transport, such as absorbing phosphate from interstitial fluid for normal cellular functions such as cellular metabolism, signal transduction, and nucleic acid and lipid synthesis. May play a role in extracellular matrix and cartilage calcification as well as in vascular calcification; Solute carriers', 'protein': 'ENSP00000272542'\n",
      "\n",
      "67.) 'count': 1, 'frequency': 0.0056179775280898875, 'function': 'Neuromedin-U receptor 2; Receptor for the neuromedin-U and neuromedin-S neuropeptides; Belongs to the G-protein coupled receptor 1 family', 'protein': 'ENSP00000255262'\n",
      "\n",
      "68.) 'count': 1, 'frequency': 0.0056179775280898875, 'function': 'Acyl-coenzyme A synthetase ACSM1, mitochondrial; Has medium-chain fatty acid:CoA ligase activity with broad substrate specificity (in vitro). Acts on acids from C(4) to C(11) and on the corresponding 3-hydroxy- and 2,3- or 3,4- unsaturated acids (in vitro). Functions as GTP-dependent lipoate- activating enzyme that generates the substrate for lipoyltransferase (By similarity); Belongs to the ATP-dependent AMP-binding enzyme family', 'protein': 'ENSP00000301956'\n",
      "\n",
      "69.) 'count': 1, 'frequency': 0.0056179775280898875, 'function': 'Neuronal acetylcholine receptor subunit alpha-9; Ionotropic receptor with a probable role in the modulation of auditory stimuli. Agonist binding induces a conformation change that leads to the opening of an ion-conducting channel across the plasma membrane. The channel is permeable to a range of divalent cations including calcium, the influx of which may activate a potassium current which hyperpolarizes the cell membrane. In the ear, this may lead to a reduction in basilar membrane motion, altering the activity of auditory nerve fibers and reducing the range of dynamic hearing. This ma [...] ', 'protein': 'ENSP00000312663'\n",
      "\n",
      "70.) 'count': 1, 'frequency': 0.0056179775280898875, 'function': 'Indoleamine 2,3-dioxygenase 2; Catalyzes the first and rate limiting step of the catabolism of the essential amino acid tryptophan along the kynurenine pathway. Involved in immune regulation. May not play a significant role in tryptophan-related tumoral resistance', 'protein': 'ENSP00000443432'\n",
      "\n",
      "71.) 'count': 1, 'frequency': 0.0056179775280898875, 'function': 'Aurora kinase B; Serine/threonine-protein kinase component of the chromosomal passenger complex (CPC), a complex that acts as a key regulator of mitosis. The CPC complex has essential functions at the centromere in ensuring correct chromosome alignment and segregation and is required for chromatin-induced microtubule stabilization and spindle assembly. Involved in the bipolar attachment of spindle microtubules to kinetochores and is a key regulator for the onset of cytokinesis during mitosis. Required for central/midzone spindle assembly and cleavage furrow formation. Key component of  [...] ', 'protein': 'ENSP00000463999'\n",
      "\n",
      "72.) 'count': 1, 'frequency': 0.0056179775280898875, 'function': 'Cyclin-O; Specifically required for generation of multiciliated cells, possibly by promoting a cell cycle state compatible with centriole amplification and maturation. Acts downstream of MCIDAS to promote mother centriole amplification and maturation in preparation for apical docking; Belongs to the cyclin family', 'protein': 'ENSP00000282572'\n",
      "\n",
      "73.) 'count': 1, 'frequency': 0.0056179775280898875, 'function': 'Neuronal acetylcholine receptor subunit alpha-10; Ionotropic receptor with a probable role in the modulation of auditory stimuli. Agonist binding may induce an extensive change in conformation that affects all subunits and leads to opening of an ion-conducting channel across the plasma membrane. The channel is permeable to a range of divalent cations including calcium, the influx of which may activate a potassium current which hyperpolarizes the cell membrane. In the ear, this may lead to a reduction in basilar membrane motion, altering the activity of auditory nerve fibers and reducin [...] ', 'protein': 'ENSP00000250699'\n",
      "\n",
      "74.) 'count': 1, 'frequency': 0.0056179775280898875, 'function': 'Poly [ADP-ribose] polymerase 3; Involved in the base excision repair (BER) pathway, by catalyzing the poly(ADP-ribosyl)ation of a limited number of acceptor proteins involved in chromatin architecture and in DNA metabolism. This modification follows DNA damages and appears as an obligatory step in a detection/signaling pathway leading to the reparation of DNA strand breaks. May link the DNA damage surveillance network to the mitotic fidelity checkpoint. Negatively influences the G1/S cell cycle progression without interfering with centrosome duplication. Binds DNA. May be involved in t [...] ', 'protein': 'ENSP00000381740'\n",
      "\n",
      "75.) 'count': 1, 'frequency': 0.0056179775280898875, 'function': 'Prostaglandin reductase 1; Functions as 15-oxo-prostaglandin 13-reductase and acts on 15-oxo-PGE1, 15-oxo-PGE2 and 15-oxo-PGE2-alpha. Has no activity towards PGE1, PGE2 and PGE2-alpha (By similarity). Catalyzes the conversion of leukotriene B4 into its biologically less active metabolite, 12-oxo-leukotriene B4. This is an initial and key step of metabolic inactivation of leukotriene B4', 'protein': 'ENSP00000311572'\n",
      "\n",
      "76.) 'count': 1, 'frequency': 0.0056179775280898875, 'function': 'Acyl-coenzyme A synthetase ACSM2B, mitochondrial; Has medium-chain fatty acid:CoA ligase activity with broad substrate specificity (in vitro). Acts on acids from C(4) to C(11) and on the corresponding 3-hydroxy- and 2,3- or 3,4- unsaturated acids (in vitro); Acyl-CoA synthetase family', 'protein': 'ENSP00000327453'\n",
      "\n",
      "\n",
      "\n",
      "\n",
      "\n",
      "CIDs = 66\n",
      "Cluster predicted= 3\n",
      "\n",
      "Function\n",
      "\n",
      "1.) 'count': 56, 'frequency': 0.9655172413793104, 'function': 'Estrogen receptor; Nuclear hormone receptor. The steroid hormones and their receptors are involved in the regulation of eukaryotic gene expression and affect cellular proliferation and differentiation in target tissues. Ligand-dependent nuclear transactivation involves either direct homodimer binding to a palindromic estrogen response element (ERE) sequence or association with other DNA- binding transcription factors, such as AP-1/c-Jun, c-Fos, ATF-2, Sp1 and Sp3, to mediate ERE-independent signaling. Ligand binding induces a conformational change allowing subsequent or combinatorial a [...] ', 'protein': 'ENSP00000206249'\n",
      "\n",
      "2.) 'count': 2, 'frequency': 0.034482758620689655, 'function': 'Estradiol 17-beta-dehydrogenase 1; Favors the reduction of estrogens and androgens. Also has 20-alpha-HSD activity. Uses preferentially NADH; Short chain dehydrogenase/reductase superfamily', 'protein': 'ENSP00000466799'\n",
      "\n",
      "\n",
      "\n",
      "\n",
      "\n",
      "CIDs = 8453\n",
      "Cluster predicted= 8\n",
      "\n",
      "Function\n",
      "\n",
      "1.) 'count': 65, 'frequency': 1.0, 'function': 'Tyrosine-protein phosphatase non-receptor type 1; Tyrosine-protein phosphatase which acts as a regulator of endoplasmic reticulum unfolded protein response. Mediates dephosphorylation of EIF2AK3/PERK; inactivating the protein kinase activity of EIF2AK3/PERK. May play an important role in CKII- and p60c-src-induced signal transduction cascades. May regulate the EFNA5-EPHA3 signaling pathway which modulates cell reorganization and cell-cell repulsion. May also regulate the hepatocyte growth factor receptor signaling pathway through dephosphorylation of MET; Protein tyrosine phosphatases, [...] ', 'protein': 'ENSP00000360683'\n",
      "\n",
      "\n",
      "\n",
      "\n",
      "\n"
     ]
    }
   ],
   "source": [
    "# Predictions and functions of the cluster with Qcutoff \n",
    "get_function_from_prediction(protein_function)"
   ]
  },
  {
   "cell_type": "code",
   "execution_count": 23,
   "metadata": {},
   "outputs": [
    {
     "ename": "NameError",
     "evalue": "name 'protein_function_large' is not defined",
     "output_type": "error",
     "traceback": [
      "\u001b[0;31m---------------------------------------------------------------------------\u001b[0m",
      "\u001b[0;31mNameError\u001b[0m                                 Traceback (most recent call last)",
      "\u001b[0;32m<ipython-input-23-e21d9f0b7365>\u001b[0m in \u001b[0;36m<module>\u001b[0;34m\u001b[0m\n\u001b[1;32m      1\u001b[0m \u001b[0;31m# Predictions and functions of the cluster with Lcutoff\u001b[0m\u001b[0;34m\u001b[0m\u001b[0;34m\u001b[0m\u001b[0;34m\u001b[0m\u001b[0m\n\u001b[0;32m----> 2\u001b[0;31m \u001b[0mget_function_from_prediction\u001b[0m\u001b[0;34m(\u001b[0m\u001b[0mprotein_function_large\u001b[0m\u001b[0;34m)\u001b[0m\u001b[0;34m\u001b[0m\u001b[0;34m\u001b[0m\u001b[0m\n\u001b[0m",
      "\u001b[0;31mNameError\u001b[0m: name 'protein_function_large' is not defined"
     ]
    }
   ],
   "source": [
    "# Predictions and functions of the cluster with Lcutoff\n",
    "get_function_from_prediction(protein_function_large)"
   ]
  },
  {
   "cell_type": "code",
   "execution_count": null,
   "metadata": {},
   "outputs": [],
   "source": []
  }
 ],
 "metadata": {
  "kernelspec": {
   "display_name": "molpmofit",
   "language": "python",
   "name": "molpmofit"
  },
  "language_info": {
   "codemirror_mode": {
    "name": "ipython",
    "version": 3
   },
   "file_extension": ".py",
   "mimetype": "text/x-python",
   "name": "python",
   "nbconvert_exporter": "python",
   "pygments_lexer": "ipython3",
   "version": "3.7.7"
  }
 },
 "nbformat": 4,
 "nbformat_minor": 4
}

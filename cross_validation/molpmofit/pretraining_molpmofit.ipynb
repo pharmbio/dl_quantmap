{
 "cells": [
  {
   "cell_type": "code",
   "execution_count": null,
   "metadata": {},
   "outputs": [],
   "source": [
    "%reload_ext autoreload\n",
    "%autoreload 2\n",
    "%matplotlib inline\n",
    "\n",
    "import sys\n",
    "import sqlite3\n",
    "import warnings\n",
    "import numpy as np\n",
    "\n",
    "from rdkit import RDLogger\n",
    "\n",
    "import codecs\n",
    "from SmilesPE.pretokenizer import atomwise_tokenizer\n",
    "from SmilesPE.pretokenizer import kmer_tokenizer\n",
    "from SmilesPE.spe2vec import Corpus\n",
    "from SmilesPE.learner import *\n",
    "from SmilesPE.tokenizer import *\n",
    "\n",
    "\n",
    "import torch\n",
    "from fastai.basic_data import load_data\n",
    "from fastai import *\n",
    "from fastai.text import *\n",
    "\n",
    "\n",
    "import fastai\n",
    "print (fastai.__version__)\n",
    "\n",
    "supp_script_path = '../../supp_scripts/'\n",
    "sys.path.append(supp_script_path) # path for support scripts folder\n",
    "import supp_utils as su\n",
    "\n",
    "\n",
    "device = torch.device(\"cuda\" if torch.cuda.is_available() else \"cpu\")\n",
    "device,torch.cuda.is_available()"
   ]
  },
  {
   "cell_type": "code",
   "execution_count": null,
   "metadata": {},
   "outputs": [],
   "source": [
    "# Ignore warnings\n",
    "warnings.filterwarnings(\"ignore\", category=DeprecationWarning)\n",
    "warnings.filterwarnings(\"ignore\")\n",
    "# To remove rdkit warning\n",
    "lg = RDLogger.logger()\n",
    "lg.setLevel(RDLogger.CRITICAL)"
   ]
  },
  {
   "cell_type": "code",
   "execution_count": null,
   "metadata": {},
   "outputs": [],
   "source": [
    "# Input parameters\n",
    "input_file = \"../../processed_data/pretraining_smiles.txt\"\n",
    "lower_label_count_cutoff = 0\n",
    "upper_label_count_cutoff = 1000000\n",
    "tokenization = \"SPE\"\n",
    "spe_min_frequency = 2000\n",
    "\n",
    "number_of_augmentation = 0\n",
    "iteration = 1000000\n",
    "\n",
    "Number_of_workers = 20\n",
    "\n",
    "epochs = 10\n",
    "bs = 64 # batch size\n",
    "learning_rate = 1e-3\n",
    "\n",
    "train_percentage = 0.8\n",
    "valid_percentage = 0.1\n",
    "test_percentage = 0.1"
   ]
  },
  {
   "cell_type": "code",
   "execution_count": null,
   "metadata": {},
   "outputs": [],
   "source": [
    "result_path = Path(tokenization)\n",
    "name = 'pretraining'\n",
    "path = result_path/name\n",
    "path.mkdir(exist_ok=True, parents=True)\n",
    "\n",
    "mdl_path = path/'models'\n",
    "mdl_path.mkdir(exist_ok=True)\n",
    "token_path = 'results/tokens.txt'"
   ]
  },
  {
   "cell_type": "code",
   "execution_count": null,
   "metadata": {},
   "outputs": [],
   "source": [
    "# Reading input file\n",
    "with open(input_file,\"r\") as f:\n",
    "    smiles_data = [entry.split()[1] for entry in f.readlines()]\n",
    "    \n",
    "canonical_smiles = su.sanity_check(smiles_data,output_type = \"canonical\",Number_of_workers = Number_of_workers)\n",
    "\n",
    "unique_canonical_smiles = su.remove_duplicates_list(canonical_smiles)"
   ]
  },
  {
   "cell_type": "code",
   "execution_count": null,
   "metadata": {},
   "outputs": [],
   "source": [
    "# Splitting data\n",
    "train,valid,test = su.split_data_without_label(unique_canonical_smiles,train_percentage=train_percentage,valid_percentage=valid_percentage)"
   ]
  },
  {
   "cell_type": "code",
   "execution_count": null,
   "metadata": {},
   "outputs": [],
   "source": [
    "# Data augmentation\n",
    "if number_of_augmentation > 0:\n",
    "    train_data = su.smiles_augmentation(train,\n",
    "                                            N_rounds=number_of_augmentation,\n",
    "                                            iteration=iteration,\n",
    "                                            data_set_type=\"train_data\",\n",
    "                                            Number_of_workers=Number_of_workers) \n",
    "    valid_data = su.smiles_augmentation(valid,\n",
    "                                            N_rounds=number_of_augmentation,\n",
    "                                            iteration=iteration,\n",
    "                                            data_set_type=\"train_data\",\n",
    "                                            Number_of_workers=Number_of_workers) \n",
    "    test_data = su.smiles_augmentation(test,\n",
    "                                            N_rounds=number_of_augmentation,\n",
    "                                            iteration=iteration,\n",
    "                                            data_set_type=\"train_data\",\n",
    "                                            Number_of_workers=Number_of_workers)\n",
    "else:\n",
    "    train_data,valid_data,test_data = train,valid,test"
   ]
  },
  {
   "cell_type": "code",
   "execution_count": null,
   "metadata": {},
   "outputs": [],
   "source": [
    "# Creating train, valid, and test dataframes\n",
    "train_df = DataFrame (train_data,columns=['SMILES'])\n",
    "train_df[\"canonical\"] = [\"yes\" for i in range(len(train_data))]\n",
    "\n",
    "valid_df = DataFrame (valid_data,columns=['SMILES'])\n",
    "valid_df[\"canonical\"] = [\"yes\" for i in range(len(valid_df))]\n",
    "\n",
    "test_df = DataFrame (test_data,columns=['SMILES'])\n",
    "test_df[\"canonical\"] = [\"yes\" for i in range(len(test_df))]"
   ]
  },
  {
   "cell_type": "code",
   "execution_count": null,
   "metadata": {},
   "outputs": [],
   "source": [
    "# Tokenization of the data\n",
    "if tokenization == \"SPE\":\n",
    "    spe_token_path = 'pretraining_tokens.txt'\n",
    "    output = codecs.open(spe_token_path, 'w')\n",
    "    learn_SPE(train_data, output, 30000, min_frequency=spe_min_frequency, augmentation=0, verbose=False, total_symbols=True)\n",
    "    \n",
    "if tokenization == \"SPE\":\n",
    "    MolTokenizer = su.molpmofit.MolTokenizer_spe_sos_eos\n",
    "    tok = Tokenizer(partial(MolTokenizer,token_path=spe_token_path), n_cpus=Number_of_workers, pre_rules=[], post_rules=[])\n",
    "else:\n",
    "    MolTokenizer = su.molpmofit.MolTokenizer_atomwise_sos_eos\n",
    "    tok = Tokenizer(partial(MolTokenizer), n_cpus=Number_of_workers, pre_rules=[], post_rules=[])"
   ]
  },
  {
   "cell_type": "code",
   "execution_count": null,
   "metadata": {},
   "outputs": [],
   "source": [
    "# Databunch of train and valid df\n",
    "data = TextLMDataBunch.from_df(path, train_df, valid_df, bs=bs, tokenizer=tok, \n",
    "                              chunksize=50000, text_cols=0, max_vocab=60000, include_bos=False)\n",
    "\n",
    "data.save(f'{name}_databunch')\n",
    "len(data.vocab.itos),len(data.train_ds)"
   ]
  },
  {
   "cell_type": "code",
   "execution_count": null,
   "metadata": {},
   "outputs": [],
   "source": [
    "data_lm = load_data(path, f'{name}_databunch', bs=bs)"
   ]
  },
  {
   "cell_type": "code",
   "execution_count": null,
   "metadata": {},
   "outputs": [],
   "source": [
    "# Loading model\n",
    "learner = language_model_learner(data_lm, AWD_LSTM, drop_mult = 1.,pretrained=False)"
   ]
  },
  {
   "cell_type": "code",
   "execution_count": null,
   "metadata": {},
   "outputs": [],
   "source": [
    "# model training\n",
    "lr = 3e-3\n",
    "lr *= bs/48  # Scale learning rate by batch size\n",
    "\n",
    "learner.unfreeze()\n",
    "learner.fit_one_cycle(epochs, lr, moms=(0.8,0.7))"
   ]
  },
  {
   "cell_type": "code",
   "execution_count": null,
   "metadata": {},
   "outputs": [],
   "source": [
    "# Saving model\n",
    "lm_fns = [f'{name}_wt', f'{name}_vocab']\n",
    "\n",
    "learner.save(lm_fns[0], with_opt=False)\n",
    "learner.data.vocab.save(mdl_path/(lm_fns[1] + '.pkl'))"
   ]
  },
  {
   "cell_type": "markdown",
   "metadata": {},
   "source": [
    "### Test set check"
   ]
  },
  {
   "cell_type": "code",
   "execution_count": null,
   "metadata": {},
   "outputs": [],
   "source": [
    "# Load model and test set check\n",
    "spe_token_path = 'pretraining_tokens.txt'\n",
    "\n",
    "if tokenization == \"SPE\":\n",
    "    MolTokenizer = su.molpmofit.MolTokenizer_spe_sos_eos\n",
    "    tok = Tokenizer(partial(MolTokenizer,token_path=spe_token_path), n_cpus=Number_of_workers, pre_rules=[], post_rules=[])\n",
    "else:\n",
    "    MolTokenizer = su.molpmofit.MolTokenizer_atomwise_sos_eos\n",
    "    tok = Tokenizer(partial(MolTokenizer), n_cpus=Number_of_workers, pre_rules=[], post_rules=[])\n",
    "    \n",
    "vocab_file = \"pretraining_vocab.pkl\"\n",
    "data_lm = load_data(path, f'{name}_databunch', bs=bs)\n",
    "\n",
    "test_data = TextLMDataBunch.from_df(path, train_df, test_df, bs=bs, tokenizer=tok, vocab=data_lm.vocab,\n",
    "                              chunksize=50000, text_cols=0, max_vocab=60000, include_bos=False)\n",
    "learner = language_model_learner(test_data, AWD_LSTM, drop_mult = 1.,pretrained=True)\n",
    "\n",
    "learner.load(f'pretraining_wt', purge=False);\n",
    "\n",
    "def get_accuracy(yhat,y):\n",
    "    accuracy_list = []\n",
    "    for i,chemical_tensor in enumerate(yhat):\n",
    "        softmax = torch.exp(chemical_tensor.float())\n",
    "        prob = softmax.cpu().detach().numpy()\n",
    "        predictions = np.argmax(prob, axis=1)\n",
    "        y_truth = y[i].cpu().detach().numpy()\n",
    "        accuracy_check = (y_truth==predictions)\n",
    "        count = np.count_nonzero(accuracy_check)\n",
    "        accuracy = float(count/len(accuracy_check))\n",
    "        accuracy_list.append(accuracy)\n",
    "        \n",
    "    return float(sum(accuracy_list)/len(accuracy_list))\n",
    "\n",
    "pred,lbl,loss = learner.get_preds(with_loss=True,ordered=True)\n",
    "\n",
    "accuracy = str(get_accuracy(pred,lbl))\n",
    "\n",
    "print (\"Accuracy\",accuracy,\"\\n\",\"Loss\",sum(loss)/len(loss))"
   ]
  }
 ],
 "metadata": {
  "kernelspec": {
   "display_name": "qmpred",
   "language": "python",
   "name": "qmpred"
  },
  "language_info": {
   "codemirror_mode": {
    "name": "ipython",
    "version": 3
   },
   "file_extension": ".py",
   "mimetype": "text/x-python",
   "name": "python",
   "nbconvert_exporter": "python",
   "pygments_lexer": "ipython3",
   "version": "3.7.7"
  }
 },
 "nbformat": 4,
 "nbformat_minor": 4
}

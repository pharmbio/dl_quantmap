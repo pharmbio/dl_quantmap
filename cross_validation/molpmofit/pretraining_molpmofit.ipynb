{
 "cells": [
  {
   "cell_type": "code",
   "execution_count": 1,
   "metadata": {},
   "outputs": [
    {
     "name": "stdout",
     "output_type": "stream",
     "text": [
      "1.0.61\n",
      "Could not import custom script CNN\n"
     ]
    },
    {
     "data": {
      "text/plain": [
       "(device(type='cuda'), True)"
      ]
     },
     "execution_count": 1,
     "metadata": {},
     "output_type": "execute_result"
    }
   ],
   "source": [
    "%reload_ext autoreload\n",
    "%autoreload 2\n",
    "%matplotlib inline\n",
    "\n",
    "import os\n",
    "import gc\n",
    "import glob\n",
    "import sys\n",
    "import random\n",
    "import string\n",
    "import tqdm\n",
    "import json\n",
    "import time\n",
    "import sqlite3\n",
    "import warnings\n",
    "import pandas as pd\n",
    "import numpy as np\n",
    "\n",
    "from rdkit import Chem\n",
    "from rdkit.Chem import Draw\n",
    "from rdkit.Chem.Draw import IPythonConsole\n",
    "from rdkit import RDLogger\n",
    "\n",
    "import codecs\n",
    "from SmilesPE.pretokenizer import atomwise_tokenizer\n",
    "from SmilesPE.pretokenizer import kmer_tokenizer\n",
    "from SmilesPE.spe2vec import Corpus\n",
    "from SmilesPE.learner import *\n",
    "from SmilesPE.tokenizer import *\n",
    "\n",
    "from multiprocessing import Pool\n",
    "\n",
    "import torch\n",
    "from fastai.basic_data import load_data\n",
    "from fastai import *\n",
    "from fastai.text import *\n",
    "#from utils import *\n",
    "\n",
    "\n",
    "import fastai\n",
    "print (fastai.__version__)\n",
    "\n",
    "supp_script_path = '../../supp_scripts/'\n",
    "sys.path.append(supp_script_path) # path for support scripts folder\n",
    "import supp_utils as su\n",
    "\n",
    "\n",
    "device = torch.device(\"cuda\" if torch.cuda.is_available() else \"cpu\")\n",
    "device,torch.cuda.is_available()"
   ]
  },
  {
   "cell_type": "code",
   "execution_count": 2,
   "metadata": {},
   "outputs": [],
   "source": [
    "# Ignore warnings\n",
    "warnings.filterwarnings(\"ignore\", category=DeprecationWarning)\n",
    "warnings.filterwarnings(\"ignore\")\n",
    "# To remove rdkit warning\n",
    "lg = RDLogger.logger()\n",
    "lg.setLevel(RDLogger.CRITICAL)"
   ]
  },
  {
   "cell_type": "code",
   "execution_count": 3,
   "metadata": {},
   "outputs": [],
   "source": [
    "# Input parameters\n",
    "input_file = \"../../data/cid_smiles_sanitized_canonical.txt\"\n",
    "lower_label_count_cutoff = 0\n",
    "upper_label_count_cutoff = 1000000\n",
    "tokenization = \"SPE\"\n",
    "spe_min_frequency = 2000\n",
    "\n",
    "number_of_augmentation = 0\n",
    "iteration = 1000000\n",
    "\n",
    "Number_of_workers = 20\n",
    "\n",
    "epochs = 10\n",
    "bs = 64 # batch size\n",
    "learning_rate = 1e-3\n",
    "\n",
    "train_percentage = 0.8\n",
    "valid_percentage = 0.1\n",
    "test_percentage = 0.1"
   ]
  },
  {
   "cell_type": "code",
   "execution_count": 4,
   "metadata": {},
   "outputs": [],
   "source": [
    "result_path = Path(tokenization)\n",
    "name = 'pretraining'\n",
    "path = result_path/name\n",
    "path.mkdir(exist_ok=True, parents=True)\n",
    "\n",
    "mdl_path = path/'models'\n",
    "mdl_path.mkdir(exist_ok=True)\n",
    "token_path = 'results/tokens.txt'"
   ]
  },
  {
   "cell_type": "code",
   "execution_count": 5,
   "metadata": {},
   "outputs": [
    {
     "name": "stderr",
     "output_type": "stream",
     "text": [
      "                                                         \r"
     ]
    }
   ],
   "source": [
    "# Reading input file\n",
    "with open(input_file,\"r\") as f:\n",
    "    smiles_data = [entry.split()[1] for entry in f.readlines()]\n",
    "    \n",
    "canonical_smiles = su.sanity_check(smiles_data,output_type = \"canonical\",Number_of_workers = Number_of_workers)\n",
    "\n",
    "unique_canonical_smiles = su.remove_duplicates_list(canonical_smiles)"
   ]
  },
  {
   "cell_type": "code",
   "execution_count": 6,
   "metadata": {},
   "outputs": [],
   "source": [
    "train,valid,test = su.split_data_without_label(unique_canonical_smiles,train_percentage=train_percentage,valid_percentage=valid_percentage)"
   ]
  },
  {
   "cell_type": "code",
   "execution_count": 7,
   "metadata": {},
   "outputs": [],
   "source": [
    "# Data augmentation\n",
    "if number_of_augmentation > 0:\n",
    "    train_data = su.smiles_augmentation(train,\n",
    "                                            N_rounds=number_of_augmentation,\n",
    "                                            iteration=iteration,\n",
    "                                            data_set_type=\"train_data\",\n",
    "                                            Number_of_workers=Number_of_workers) \n",
    "    valid_data = su.smiles_augmentation(valid,\n",
    "                                            N_rounds=number_of_augmentation,\n",
    "                                            iteration=iteration,\n",
    "                                            data_set_type=\"train_data\",\n",
    "                                            Number_of_workers=Number_of_workers) \n",
    "    test_data = su.smiles_augmentation(test,\n",
    "                                            N_rounds=number_of_augmentation,\n",
    "                                            iteration=iteration,\n",
    "                                            data_set_type=\"train_data\",\n",
    "                                            Number_of_workers=Number_of_workers)\n",
    "else:\n",
    "    train_data,valid_data,test_data = train,valid,test"
   ]
  },
  {
   "cell_type": "code",
   "execution_count": 8,
   "metadata": {},
   "outputs": [],
   "source": [
    "# Creating train, valid, and test dataframes\n",
    "train_df = DataFrame (train_data,columns=['SMILES'])\n",
    "train_df[\"canonical\"] = [\"yes\" for i in range(len(train_data))]\n",
    "\n",
    "valid_df = DataFrame (valid_data,columns=['SMILES'])\n",
    "valid_df[\"canonical\"] = [\"yes\" for i in range(len(valid_df))]\n",
    "\n",
    "test_df = DataFrame (test_data,columns=['SMILES'])\n",
    "test_df[\"canonical\"] = [\"yes\" for i in range(len(test_df))]"
   ]
  },
  {
   "cell_type": "code",
   "execution_count": 9,
   "metadata": {},
   "outputs": [
    {
     "name": "stdout",
     "output_type": "stream",
     "text": [
      "Counting SMILES...\n",
      "1620 unique Canonical SMILES\n",
      "Gettting Pair Statistics\n"
     ]
    },
    {
     "data": {
      "text/html": [
       "\n",
       "    <div>\n",
       "        <style>\n",
       "            /* Turns off some styling */\n",
       "            progress {\n",
       "                /* gets rid of default border in Firefox and Opera. */\n",
       "                border: none;\n",
       "                /* Needs to be in here for Safari polyfill so background images work as expected. */\n",
       "                background-size: auto;\n",
       "            }\n",
       "            .progress-bar-interrupted, .progress-bar-interrupted::-webkit-progress-bar {\n",
       "                background: #F44336;\n",
       "            }\n",
       "        </style>\n",
       "      <progress value='1620' class='' max='1620' style='width:300px; height:20px; vertical-align: middle;'></progress>\n",
       "      100.00% [1620/1620 00:00<00:00]\n",
       "    </div>\n",
       "    "
      ],
      "text/plain": [
       "<IPython.core.display.HTML object>"
      ]
     },
     "metadata": {},
     "output_type": "display_data"
    },
    {
     "name": "stderr",
     "output_type": "stream",
     "text": [
      "Number of unique characters & Reducing number of merge operations by: 65\n",
      "Unique characters: {'o', '[CH2-]', '[P@]', 'c', '[nH]', '.', '[NH3+]', '[Os]', '[C@]', '[C@@]', '[I-]', '[Mg+2]', '[As+]', 'S', '[N-]', '[Ca+2]', '[C@@H]', '#', '[47Ca]', 'B', '/', '[125I]', 'C', '[Li+]', '=', '2', '[O-]', '[N+]', '[Na+]', '[Zn]', '[n+]', ')', '-', '4', 'n', '\\\\', '[Br-]', '5', 'I', '6', '[252Cf]', '[Al+3]', 'Cl', '[Cl+3]', 'P', '[Co+3]', 'Br', '[NH4+]', '[Fe]', '[OH-]', '[Cl-]', '[Cd]', '[Se]', 'F', '3', 'N', '[C@H]', '[18F]', '(', '[Si]', '[NH2+]', 'O', '1', '[NH+]', 's'}\n",
      "no pair has frequency >= 2000. Stopping\n"
     ]
    }
   ],
   "source": [
    "# Tokenization of the data\n",
    "if tokenization == \"SPE\":\n",
    "    spe_token_path = 'pretraining_tokens.txt'\n",
    "    output = codecs.open(spe_token_path, 'w')\n",
    "    learn_SPE(train_data, output, 30000, min_frequency=spe_min_frequency, augmentation=0, verbose=False, total_symbols=True)\n",
    "    \n",
    "if tokenization == \"SPE\":\n",
    "    MolTokenizer = su.molpmofit.MolTokenizer_spe_sos_eos\n",
    "    tok = Tokenizer(partial(MolTokenizer,token_path=spe_token_path), n_cpus=Number_of_workers, pre_rules=[], post_rules=[])\n",
    "else:\n",
    "    MolTokenizer = su.molpmofit.MolTokenizer_atomwise_sos_eos\n",
    "    tok = Tokenizer(partial(MolTokenizer), n_cpus=Number_of_workers, pre_rules=[], post_rules=[])"
   ]
  },
  {
   "cell_type": "code",
   "execution_count": 10,
   "metadata": {},
   "outputs": [
    {
     "data": {
      "text/html": [],
      "text/plain": [
       "<IPython.core.display.HTML object>"
      ]
     },
     "metadata": {},
     "output_type": "display_data"
    },
    {
     "data": {
      "text/html": [],
      "text/plain": [
       "<IPython.core.display.HTML object>"
      ]
     },
     "metadata": {},
     "output_type": "display_data"
    },
    {
     "data": {
      "text/plain": [
       "(72, 1620)"
      ]
     },
     "execution_count": 10,
     "metadata": {},
     "output_type": "execute_result"
    }
   ],
   "source": [
    "# Databunch of train and valid df\n",
    "data = TextLMDataBunch.from_df(path, train_df, valid_df, bs=bs, tokenizer=tok, \n",
    "                              chunksize=50000, text_cols=0, max_vocab=60000, include_bos=False)\n",
    "\n",
    "data.save(f'{name}_databunch')\n",
    "len(data.vocab.itos),len(data.train_ds)"
   ]
  },
  {
   "cell_type": "code",
   "execution_count": 11,
   "metadata": {},
   "outputs": [],
   "source": [
    "data_lm = load_data(path, f'{name}_databunch', bs=bs)"
   ]
  },
  {
   "cell_type": "code",
   "execution_count": 12,
   "metadata": {},
   "outputs": [],
   "source": [
    "# Loading model\n",
    "learner = language_model_learner(data_lm, AWD_LSTM, drop_mult = 1.,pretrained=False)"
   ]
  },
  {
   "cell_type": "code",
   "execution_count": 14,
   "metadata": {},
   "outputs": [
    {
     "data": {
      "text/html": [
       "<table border=\"1\" class=\"dataframe\">\n",
       "  <thead>\n",
       "    <tr style=\"text-align: left;\">\n",
       "      <th>epoch</th>\n",
       "      <th>train_loss</th>\n",
       "      <th>valid_loss</th>\n",
       "      <th>accuracy</th>\n",
       "      <th>time</th>\n",
       "    </tr>\n",
       "  </thead>\n",
       "  <tbody>\n",
       "    <tr>\n",
       "      <td>0</td>\n",
       "      <td>3.716894</td>\n",
       "      <td>3.224354</td>\n",
       "      <td>0.079576</td>\n",
       "      <td>00:13</td>\n",
       "    </tr>\n",
       "    <tr>\n",
       "      <td>1</td>\n",
       "      <td>3.440904</td>\n",
       "      <td>3.305238</td>\n",
       "      <td>0.090402</td>\n",
       "      <td>00:14</td>\n",
       "    </tr>\n",
       "    <tr>\n",
       "      <td>2</td>\n",
       "      <td>3.340073</td>\n",
       "      <td>3.168983</td>\n",
       "      <td>0.080134</td>\n",
       "      <td>00:14</td>\n",
       "    </tr>\n",
       "    <tr>\n",
       "      <td>3</td>\n",
       "      <td>3.271028</td>\n",
       "      <td>3.133582</td>\n",
       "      <td>0.105134</td>\n",
       "      <td>00:14</td>\n",
       "    </tr>\n",
       "    <tr>\n",
       "      <td>4</td>\n",
       "      <td>3.219376</td>\n",
       "      <td>2.988254</td>\n",
       "      <td>0.180804</td>\n",
       "      <td>00:14</td>\n",
       "    </tr>\n",
       "    <tr>\n",
       "      <td>5</td>\n",
       "      <td>3.074159</td>\n",
       "      <td>2.511738</td>\n",
       "      <td>0.299330</td>\n",
       "      <td>00:14</td>\n",
       "    </tr>\n",
       "    <tr>\n",
       "      <td>6</td>\n",
       "      <td>2.862222</td>\n",
       "      <td>2.235087</td>\n",
       "      <td>0.350781</td>\n",
       "      <td>00:14</td>\n",
       "    </tr>\n",
       "    <tr>\n",
       "      <td>7</td>\n",
       "      <td>2.687160</td>\n",
       "      <td>2.151086</td>\n",
       "      <td>0.363728</td>\n",
       "      <td>00:14</td>\n",
       "    </tr>\n",
       "    <tr>\n",
       "      <td>8</td>\n",
       "      <td>2.531613</td>\n",
       "      <td>2.075841</td>\n",
       "      <td>0.387946</td>\n",
       "      <td>00:14</td>\n",
       "    </tr>\n",
       "    <tr>\n",
       "      <td>9</td>\n",
       "      <td>2.407015</td>\n",
       "      <td>2.066675</td>\n",
       "      <td>0.393415</td>\n",
       "      <td>00:14</td>\n",
       "    </tr>\n",
       "  </tbody>\n",
       "</table>"
      ],
      "text/plain": [
       "<IPython.core.display.HTML object>"
      ]
     },
     "metadata": {},
     "output_type": "display_data"
    }
   ],
   "source": [
    "# model training\n",
    "lr = 3e-3\n",
    "lr *= bs/48  # Scale learning rate by batch size\n",
    "\n",
    "learner.unfreeze()\n",
    "learner.fit_one_cycle(epochs, lr, moms=(0.8,0.7))"
   ]
  },
  {
   "cell_type": "code",
   "execution_count": 15,
   "metadata": {},
   "outputs": [],
   "source": [
    "# Saving model\n",
    "lm_fns = [f'{name}_wt', f'{name}_vocab']\n",
    "\n",
    "learner.save(lm_fns[0], with_opt=False)\n",
    "learner.data.vocab.save(mdl_path/(lm_fns[1] + '.pkl'))"
   ]
  },
  {
   "cell_type": "markdown",
   "metadata": {},
   "source": [
    "### Test set check"
   ]
  },
  {
   "cell_type": "code",
   "execution_count": 16,
   "metadata": {},
   "outputs": [
    {
     "data": {
      "text/html": [],
      "text/plain": [
       "<IPython.core.display.HTML object>"
      ]
     },
     "metadata": {},
     "output_type": "display_data"
    },
    {
     "data": {
      "text/html": [],
      "text/plain": [
       "<IPython.core.display.HTML object>"
      ]
     },
     "metadata": {},
     "output_type": "display_data"
    },
    {
     "data": {
      "text/html": [],
      "text/plain": [
       "<IPython.core.display.HTML object>"
      ]
     },
     "metadata": {},
     "output_type": "display_data"
    },
    {
     "name": "stdout",
     "output_type": "stream",
     "text": [
      "Accuracy 0.37243303571428527 \n",
      " Loss tensor(2.1710)\n"
     ]
    }
   ],
   "source": [
    "# Load model and test set check\n",
    "spe_token_path = 'pretraining_tokens.txt'\n",
    "\n",
    "if tokenization == \"SPE\":\n",
    "    MolTokenizer = su.molpmofit.MolTokenizer_spe_sos_eos\n",
    "    tok = Tokenizer(partial(MolTokenizer,token_path=spe_token_path), n_cpus=Number_of_workers, pre_rules=[], post_rules=[])\n",
    "else:\n",
    "    MolTokenizer = su.molpmofit.MolTokenizer_atomwise_sos_eos\n",
    "    tok = Tokenizer(partial(MolTokenizer), n_cpus=Number_of_workers, pre_rules=[], post_rules=[])\n",
    "    \n",
    "vocab_file = \"pretraining_vocab.pkl\"\n",
    "data_lm = load_data(path, f'{name}_databunch', bs=bs)\n",
    "\n",
    "test_data = TextLMDataBunch.from_df(path, train_df, test_df, bs=bs, tokenizer=tok, vocab=data_lm.vocab,\n",
    "                              chunksize=50000, text_cols=0, max_vocab=60000, include_bos=False)\n",
    "learner = language_model_learner(test_data, AWD_LSTM, drop_mult = 1.,pretrained=True)\n",
    "\n",
    "learner.load(f'pretraining_wt', purge=False);\n",
    "\n",
    "def get_accuracy(yhat,y):\n",
    "    accuracy_list = []\n",
    "    for i,chemical_tensor in enumerate(yhat):\n",
    "        softmax = torch.exp(chemical_tensor.float())\n",
    "        prob = softmax.cpu().detach().numpy()\n",
    "        predictions = np.argmax(prob, axis=1)\n",
    "        y_truth = y[i].cpu().detach().numpy()\n",
    "        accuracy_check = (y_truth==predictions)\n",
    "        count = np.count_nonzero(accuracy_check)\n",
    "        accuracy = float(count/len(accuracy_check))\n",
    "        accuracy_list.append(accuracy)\n",
    "        \n",
    "    return float(sum(accuracy_list)/len(accuracy_list))\n",
    "\n",
    "pred,lbl,loss = learner.get_preds(with_loss=True,ordered=True)\n",
    "\n",
    "accuracy = str(get_accuracy(pred,lbl))\n",
    "\n",
    "print (\"Accuracy\",accuracy,\"\\n\",\"Loss\",sum(loss)/len(loss))"
   ]
  },
  {
   "cell_type": "code",
   "execution_count": null,
   "metadata": {},
   "outputs": [],
   "source": []
  }
 ],
 "metadata": {
  "kernelspec": {
   "display_name": "molpmofit",
   "language": "python",
   "name": "molpmofit"
  },
  "language_info": {
   "codemirror_mode": {
    "name": "ipython",
    "version": 3
   },
   "file_extension": ".py",
   "mimetype": "text/x-python",
   "name": "python",
   "nbconvert_exporter": "python",
   "pygments_lexer": "ipython3",
   "version": "3.7.7"
  }
 },
 "nbformat": 4,
 "nbformat_minor": 4
}

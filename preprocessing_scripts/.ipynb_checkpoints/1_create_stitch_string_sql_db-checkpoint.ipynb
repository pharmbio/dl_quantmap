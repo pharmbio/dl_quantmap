{
 "cells": [
  {
   "cell_type": "code",
   "execution_count": null,
   "metadata": {},
   "outputs": [],
   "source": [
    "import os\n",
    "import tqdm\n",
    "import sqlite3"
   ]
  },
  {
   "cell_type": "code",
   "execution_count": null,
   "metadata": {},
   "outputs": [],
   "source": [
    "chunk_size=1000000000\n",
    "\n",
    "def read_in_chunks(file_object, chunk_size=1024):\n",
    "    while True:\n",
    "        data = file_object.readlines(chunk_size)\n",
    "        if not data:\n",
    "            break\n",
    "        yield data"
   ]
  },
  {
   "cell_type": "code",
   "execution_count": null,
   "metadata": {},
   "outputs": [],
   "source": [
    "# The stitch database is not\n",
    "stitch_db = \"protein_chemical.links.detailed.v3.1.tsv\"\n",
    "status_code = os.system(\"wget http://stitch3.embl.de/newstring_download/protein_chemical.links.detailed.v3.1.tsv.gz\")\n",
    "\n",
    "downloaded_stitch = False\n",
    "if status_code == 0:\n",
    "    os.system(\"gunzip -k \" + stitch_db)\n",
    "    downloaded_stitch = True\n",
    "else:\n",
    "    os.system(\"tar -xvzf  ../processed_data/stitch3.1.sqlite.tar.gz\")\n",
    "    os.system(\"mv stitch3.1.sqlite qm_db.sqlite\")\n",
    "    \n",
    "# string db parse\n",
    "if downloaded_stitch:\n",
    "    with open(stitch_db,\"r\") as f:\n",
    "        stitch_list = []\n",
    "        n = 0\n",
    "        loop = tqdm.tqdm(read_in_chunks(f,chunk_size=chunk_size),leave=False)\n",
    "        for chunk in loop:\n",
    "            for entry in chunk:\n",
    "                if n!= 0:\n",
    "                    entry = entry.strip().split()\n",
    "                    column2 = entry[1].split(\".\")\n",
    "                    taxo = column2[0]\n",
    "                    if taxo == \"9606\":\n",
    "                        chiral = str(entry[0][3:4])\n",
    "                        cid = int(entry[0][4:])\n",
    "                        protein = column2[1]\n",
    "                        sc_exp = int(entry[2])\n",
    "                        #sc_pred = int(entry[3])\n",
    "                        sc_db = int(entry[3])\n",
    "                        sc_txt = int(entry[4])\n",
    "                        sc_all = int(entry[5])\n",
    "                        stitch_list.append([chiral,cid,taxo,protein,sc_exp,sc_pred,sc_db,sc_txt,sc_all])\n",
    "                n += 1"
   ]
  },
  {
   "cell_type": "code",
   "execution_count": null,
   "metadata": {},
   "outputs": [],
   "source": [
    "! wget http://string90.embl.de/newstring_download/protein.links.detailed.v9.0.txt.gz\n",
    "! gunzip -k protein.links.detailed.v9.0.txt.gz\n",
    "\n",
    "string_db = \"protein.links.detailed.v9.0.txt\"\n",
    "\n",
    "# string db parse\n",
    "with open(string_db,\"r\") as f:\n",
    "    string_list = []\n",
    "    n = 0\n",
    "    loop = tqdm.tqdm(read_in_chunks(f,chunk_size=chunk_size),leave=False)\n",
    "    for chunk in loop:\n",
    "        for entry in chunk:\n",
    "            if n!= 0:\n",
    "                entry = entry.strip().split()\n",
    "                column1 = entry[0].split(\".\")\n",
    "                taxo1 = column1[0]\n",
    "                column2 = entry[1].split(\".\")\n",
    "                taxo2 = column2[0]\n",
    "                if taxo1 == \"9606\" and taxo2 == \"9606\":\n",
    "                    protein1 = column1[1]\n",
    "                    protein2 = column2[1]\n",
    "                    neigh = int(entry[2])\n",
    "                    fusion = int(entry[3])\n",
    "                    co_occ = int(entry[4])\n",
    "                    co_exp = int(entry[5])\n",
    "                    sc_exp = int(entry[6])\n",
    "                    sc_db = int(entry[7])\n",
    "                    sc_txt = int(entry[8])\n",
    "                    sc_all = int(entry[9])\n",
    "                    string_list.append([taxo1,protein1,taxo2,protein2,neigh,fusion,co_occ,co_exp,sc_exp,sc_db,sc_txt,sc_all])\n",
    "            n += 1"
   ]
  },
  {
   "cell_type": "code",
   "execution_count": null,
   "metadata": {},
   "outputs": [],
   "source": [
    "# Create sql database\n",
    "stitch_columns = [\"chiral\",\"cid\",\"taxo\",\"protein\",\"sc_exp\",\"sc_pred\",\"sc_db\",\"sc_txt\",\"sc_all\"]\n",
    "string_columns = [\"tax1\",\"pro1\",\"tax2\",\"pro2\",\"neigh\",\"fusion\",\"co_occ\",\"co_exp\",\"sc_exp\",\"sc_db\",\"sc_txt\",\"sc_all\"]\n",
    "\n",
    "conn = sqlite3.connect('qm_db.sqlite') \n",
    "c = conn.cursor() \n",
    "\n",
    "if downloaded_stitch:\n",
    "    c.execute('''DROP  table IF EXISTS  stitch;''')\n",
    "    c.execute('''CREATE TABLE stitch_protchem_man\n",
    "                 ([chiral] CHARACTER(1) NOT NULL, \n",
    "                 [cid] integer NOT NULL, \n",
    "                 [taxo] integer NOT NULL,\n",
    "                 [protein] VARCHAR(50) NOT NULL,\n",
    "                 [sc_exp] INT NOT NULL, \n",
    "                 [sc_pred] INT NOT NULL,\n",
    "                 [sc_db] INT NOT NULL,\n",
    "                 [sc_txt] INT NOT NULL,\n",
    "                 [sc_all] INT NOT NULL\n",
    "                 )''')\n",
    "\n",
    "c.execute('''DROP  table IF EXISTS string;''')\n",
    "c.execute('''CREATE TABLE string_protlink_man\n",
    "             ([tax1] integer NOT NULL, \n",
    "             [pro1] VARCHAR(50) NOT NULL, \n",
    "             [tax2] integer NOT NULL,\n",
    "             [pro2] VARCHAR(50) NOT NULL,\n",
    "             [neigh] INT NOT NULL, \n",
    "             [fusion] INT NOT NULL,\n",
    "             [co_occ] INT NOT NULL,\n",
    "             [co_exp] INT NOT NULL,\n",
    "             [sc_exp] INT NOT NULL,\n",
    "             [sc_db] INT NOT NULL,\n",
    "             [sc_txt] INT NOT NULL,\n",
    "             [sc_all] INT NOT NULL\n",
    "             )''')"
   ]
  },
  {
   "cell_type": "code",
   "execution_count": null,
   "metadata": {},
   "outputs": [],
   "source": [
    "# Data entry to the database\n",
    "def data_entry(input_list,table):\n",
    "    loop = tqdm.tqdm(input_list, total=len(input_list),leave=False)\n",
    "    data_tuple_list = []\n",
    "    for i,item in enumerate(loop):\n",
    "        data_tuple_list.append(item)\n",
    "        if i != 0 and i % 1000000 == 0:\n",
    "            c.executemany(\"INSERT INTO \" + table + \" VALUES(\" + str('?,' * len(item))[:-1] + \")\", (data_tuple_list))\n",
    "            data_tuple_list = []\n",
    "            conn.commit()\n",
    "    c.executemany(\"INSERT INTO \" + table + \" VALUES(\" + str('?,' * len(item))[:-1] + \")\", (data_tuple_list))\n",
    "    conn.commit()\n",
    "    \n",
    "if downloaded_stitch:\n",
    "    data_entry(stitch_list,\"stitch_protchem_man\")\n",
    "data_entry(string_list,\"string_protlink_man\")"
   ]
  },
  {
   "cell_type": "code",
   "execution_count": null,
   "metadata": {},
   "outputs": [],
   "source": [
    "# Indexing the tables\n",
    "c.execute(\"CREATE INDEX index_my_table ON stitch_protchem_man(cid,protein);\")\n",
    "c.execute(\"CREATE INDEX index_my_table2 ON string_protlink_man(pro1,pro2);\")\n",
    "\n",
    "conn.close()"
   ]
  },
  {
   "cell_type": "code",
   "execution_count": null,
   "metadata": {},
   "outputs": [],
   "source": [
    "output_folder = \"../data/databases\"\n",
    "os.system(\"mkdir ../data\")\n",
    "os.system(\"mkdir \" + output_folder)\n",
    "os.system(\"mv \" + stitch_db + \" \" + output_folder)\n",
    "os.system(\"mv \" + string_db + \" \" + output_folder)\n",
    "os.system(\"mv \" + stitch_db + \".gz \" + output_folder)\n",
    "os.system(\"mv \" + string_db + \".gz \" + output_folder)\n",
    "os.system(\"mv qm_db.sqlite ../data\")"
   ]
  },
  {
   "cell_type": "code",
   "execution_count": null,
   "metadata": {},
   "outputs": [],
   "source": []
  }
 ],
 "metadata": {
  "kernelspec": {
   "display_name": "molpmofit",
   "language": "python",
   "name": "molpmofit"
  },
  "language_info": {
   "codemirror_mode": {
    "name": "ipython",
    "version": 3
   },
   "file_extension": ".py",
   "mimetype": "text/x-python",
   "name": "python",
   "nbconvert_exporter": "python",
   "pygments_lexer": "ipython3",
   "version": "3.7.7"
  }
 },
 "nbformat": 4,
 "nbformat_minor": 4
}

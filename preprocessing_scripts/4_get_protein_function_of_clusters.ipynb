{
 "cells": [
  {
   "cell_type": "code",
   "execution_count": 1,
   "metadata": {},
   "outputs": [],
   "source": [
    "import os\n",
    "import glob\n",
    "import sqlite3\n",
    "import tqdm\n",
    "import pandas as pd\n",
    "import yaml\n",
    "import requests\n",
    "from multiprocessing import Pool"
   ]
  },
  {
   "cell_type": "code",
   "execution_count": 2,
   "metadata": {},
   "outputs": [
    {
     "name": "stdout",
     "output_type": "stream",
     "text": [
      "--2022-03-28 16:20:29--  https://stringdb-static.org/download/protein.info.v11.5/9606.protein.info.v11.5.txt.gz\n",
      "Resolving stringdb-static.org (stringdb-static.org)... 151.106.34.104\n",
      "Connecting to stringdb-static.org (stringdb-static.org)|151.106.34.104|:443... connected.\n",
      "HTTP request sent, awaiting response... 200 OK\n",
      "Length: 1901833 (1.8M) [application/octet-stream]\n",
      "Saving to: ‘9606.protein.info.v11.5.txt.gz’\n",
      "\n",
      "9606.protein.info.v 100%[===================>]   1.81M  8.55MB/s    in 0.2s    \n",
      "\n",
      "2022-03-28 16:20:30 (8.55 MB/s) - ‘9606.protein.info.v11.5.txt.gz’ saved [1901833/1901833]\n",
      "\n"
     ]
    },
    {
     "data": {
      "text/plain": [
       "0"
      ]
     },
     "execution_count": 2,
     "metadata": {},
     "output_type": "execute_result"
    }
   ],
   "source": [
    "! wget https://stringdb-static.org/download/protein.info.v11.5/9606.protein.info.v11.5.txt.gz\n",
    "! gunzip -k 9606.protein.info.v11.5.txt.gz\n",
    "\n",
    "output_folder = \"../data/databases\"\n",
    "os.system(\"mkdir \" + output_folder)\n",
    "os.system(\"mv 9606.protein.info.v11.5.txt \" + output_folder)\n",
    "os.system(\"mv 9606.protein.info.v11.5.txt.gz \" + output_folder)"
   ]
  },
  {
   "cell_type": "code",
   "execution_count": 3,
   "metadata": {},
   "outputs": [],
   "source": [
    "# database information\n",
    "db_path = \"../data/qm_db.sqlite\"\n",
    "stitch_table_name = \"stitch_protchem_man\"\n",
    "conn = sqlite3.connect(db_path)\n",
    "c = conn.cursor()\n",
    "\n",
    "number_of_workers = 12\n",
    "\n",
    "# Quantmap parameters used\n",
    "chem_score = 700\n",
    "chem_max    = 10\n",
    "prot_max    = 150\n",
    "prot_score  = 700\n",
    "ppi_max     = 200\n",
    "\n",
    "cid_cluster_files = glob.glob(\"../data/preprocessed_data/cid_cluster_*.txt\")\n",
    "\n",
    "df_string = pd.read_csv(\"../data/databases/9606.protein.info.v11.5.txt\",sep=\"\\t\") # String protein function information for homo sapiens\n",
    "# Can be downloaded from the below link\n",
    "# https://string-db.org/cgi/download?sessionId=bUZOGmbHm5aHhttpsstringdborgcgidownloadsessionIdbUZOGmbHm5aH&species_text=9606"
   ]
  },
  {
   "cell_type": "code",
   "execution_count": 4,
   "metadata": {},
   "outputs": [],
   "source": [
    "def get_item_count_list(input_list):\n",
    "    count_dict = {}\n",
    "    for entry in set(input_list):\n",
    "        count_dict[entry] = input_list.count(entry)\n",
    "    return count_dict\n",
    "\n",
    "def get_annotation(df,protein):\n",
    "    try:\n",
    "        return (df.loc[df['protein_external_id'] ==(\"9606.\" + str(protein))])\n",
    "    except:\n",
    "        return (df.loc[df['#string_protein_id'] ==(\"9606.\" + str(protein))])\n",
    "        \n",
    "\n",
    "def open_cid_cluster(input_file):\n",
    "    # cid-cluster information for the cids in the file\n",
    "    cid_cluster = {int(entry.split()[0]):int(entry.split()[1]) for entry in open(input_file,\"r\")}\n",
    "    cluster_cid = {}\n",
    "    for cid in cid_cluster:\n",
    "        cluster = cid_cluster[cid]\n",
    "        if cluster not in cluster_cid:\n",
    "            cluster_cid[cluster] = []\n",
    "        cluster_cid[cluster].append(cid)\n",
    "    return (cid_cluster,cluster_cid)\n",
    "\n",
    "def get_protein_for_cids(cid_cluster):\n",
    "    # Get protein relation and function for cids\n",
    "    input_cids = list(map(int, cid_cluster.keys()))\n",
    "    ppi_cid = []\n",
    "    loop = tqdm.tqdm(enumerate(input_cids),total=len(input_cids),leave=False)\n",
    "    cid_proteins = {}\n",
    "    for i,cid in loop:\n",
    "        seeds = []\n",
    "        c.execute(\"select distinct protein from \" + stitch_table_name + \" where cid = \" + str(cid) + \" and sc_all >=  \" + str(chem_score) + \" order by sc_all desc, \\\n",
    "                  sc_exp desc limit \" + str(chem_max))\n",
    "        data = c.fetchall()\n",
    "        for row in data:\n",
    "            seeds.append(row[0])\n",
    "        cid_proteins[cid] = seeds\n",
    "    return (cid_proteins)\n",
    "\n",
    "def get_protein_function(cluster_cid,cid_cluster,cid_proteins,distance_threshold):\n",
    "    # Get cluster and proteins in the cluster information\n",
    "    cluster_proteins = {}\n",
    "    for cluster in cluster_cid:\n",
    "        cid_in_cluster = cluster_cid[cluster]\n",
    "        if cluster not in cluster_proteins:\n",
    "            cluster_proteins[cluster] = []\n",
    "\n",
    "        for cid in cid_in_cluster:\n",
    "            cluster_proteins[cluster].extend(cid_proteins[cid])\n",
    "\n",
    "    # Get frequency of found protein\n",
    "    cluster_proteins_frequency = {}\n",
    "    for cluster in cluster_proteins:\n",
    "        cluster_proteins_frequency[cluster] = get_item_count_list(cluster_proteins[cluster])\n",
    "\n",
    "    # Writing protein function, if not found, extracting using API\n",
    "    final_results = {}\n",
    "\n",
    "    for cluster in sorted(list(cluster_proteins_frequency.keys())):\n",
    "        final_results[cluster] = []\n",
    "        all_protein = list(cluster_proteins_frequency[cluster].keys())\n",
    "\n",
    "        total_count_of_proteins = sum(list(cluster_proteins_frequency[cluster].values()))\n",
    "\n",
    "        loop = tqdm.tqdm(all_protein,total=len(all_protein),leave=False)\n",
    "        for protein in loop:\n",
    "            loop.set_description(\"Cluster = \" + str(cluster))\n",
    "            current_protein_results = {\"protein\":0,\"function\":0,\"count\":0,\"frequency\":0}\n",
    "            current_protein_results[\"protein\"] = protein\n",
    "            count = int(cluster_proteins_frequency[cluster][protein])\n",
    "            current_protein_results[\"count\"] = count\n",
    "            annotation = get_annotation(df_string,protein)[\"annotation\"].tolist()\n",
    "            if annotation != []:\n",
    "                current_protein_results[\"function\"] = annotation[0]\n",
    "            else:\n",
    "                URL = \"https://string-db.org/api/json/get_string_ids?identifiers=\" + str(protein)\n",
    "                r = requests.get(URL)\n",
    "                result = r.json()\n",
    "                if result != []:\n",
    "                    current_protein_results[\"function\"] = result[0]['annotation']\n",
    "                else:\n",
    "                    current_protein_results[\"function\"] = \"Not found\"\n",
    "\n",
    "            current_protein_results[\"frequency\"] = float(count/total_count_of_proteins)\n",
    "\n",
    "            final_results[cluster].append(current_protein_results)\n",
    "\n",
    "    # Sorting based on clusters\n",
    "    final_results_sorted = {}\n",
    "    for cluster in final_results:\n",
    "        final_results_sorted[cluster] = sorted(final_results[cluster], key = lambda i: i['frequency'],reverse=True)\n",
    "\n",
    "    # Writing final output\n",
    "    with open('../data/preprocessed_data/protein_function_' + str(distance_threshold) + '.yaml', 'w') as outfile:\n",
    "        yaml.dump(final_results_sorted, outfile, default_flow_style=False)"
   ]
  },
  {
   "cell_type": "code",
   "execution_count": 7,
   "metadata": {},
   "outputs": [
    {
     "name": "stderr",
     "output_type": "stream",
     "text": [
      "Cluster = 0:   0%|          | 0/76 [00:00<?, ?it/s]"
     ]
    },
    {
     "name": "stdout",
     "output_type": "stream",
     "text": [
      "../data/preprocessed_data/cid_cluster_0.001.txt\n"
     ]
    },
    {
     "name": "stderr",
     "output_type": "stream",
     "text": [
      "                                                            \r"
     ]
    }
   ],
   "source": [
    "def run_main(files):\n",
    "    distance_threshold = files.split(\"_\")[-1][:-4]\n",
    "    cid_cluster,cluster_cid = open_cid_cluster(files)\n",
    "    cid_proteins = get_protein_for_cids(cid_cluster)\n",
    "    get_protein_function(cluster_cid,cid_cluster,cid_proteins,distance_threshold)\n",
    "    \n",
    "for files in cid_cluster_files:\n",
    "    print (files)\n",
    "    run_main(files)\n",
    "#if __name__ == '__main__':\n",
    "#    with Pool(number_of_workers) as p:\n",
    "#        p.map(run_main, cid_cluster_files)"
   ]
  },
  {
   "cell_type": "code",
   "execution_count": null,
   "metadata": {},
   "outputs": [],
   "source": []
  }
 ],
 "metadata": {
  "kernelspec": {
   "display_name": "molpmofit",
   "language": "python",
   "name": "molpmofit"
  },
  "language_info": {
   "codemirror_mode": {
    "name": "ipython",
    "version": 3
   },
   "file_extension": ".py",
   "mimetype": "text/x-python",
   "name": "python",
   "nbconvert_exporter": "python",
   "pygments_lexer": "ipython3",
   "version": "3.7.7"
  }
 },
 "nbformat": 4,
 "nbformat_minor": 4
}

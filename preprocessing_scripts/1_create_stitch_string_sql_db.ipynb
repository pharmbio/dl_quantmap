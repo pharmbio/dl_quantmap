{
 "cells": [
  {
   "cell_type": "code",
   "execution_count": 1,
   "metadata": {},
   "outputs": [],
   "source": [
    "import os\n",
    "import tqdm\n",
    "import sqlite3"
   ]
  },
  {
   "cell_type": "code",
   "execution_count": 9,
   "metadata": {},
   "outputs": [
    {
     "name": "stdout",
     "output_type": "stream",
     "text": [
      "--2022-03-28 11:09:45--  http://string90.embl.de/newstring_download/protein.links.detailed.v9.0.txt.gz\n",
      "Resolving string90.embl.de (string90.embl.de)... 194.94.44.168\n",
      "Connecting to string90.embl.de (string90.embl.de)|194.94.44.168|:80... connected.\n",
      "HTTP request sent, awaiting response... 200 OK\n",
      "Length: 4083847181 (3.8G) [application/x-gzip]\n",
      "Saving to: ‘protein.links.detailed.v9.0.txt.gz’\n",
      "\n",
      "protein.links.detai 100%[===================>]   3.80G  2.87MB/s    in 24m 3s  \n",
      "\n",
      "2022-03-28 11:33:49 (2.70 MB/s) - ‘protein.links.detailed.v9.0.txt.gz’ saved [4083847181/4083847181]\n",
      "\n"
     ]
    }
   ],
   "source": [
    "! wget http://string90.embl.de/newstring_download/protein.links.detailed.v9.0.txt.gz\n",
    "! gunzip -k protein.links.detailed.v9.0.txt.gz\n",
    "\n",
    "string_db = \"protein.links.detailed.v9.0.txt\""
   ]
  },
  {
   "cell_type": "code",
   "execution_count": 14,
   "metadata": {},
   "outputs": [],
   "source": [
    "def read_in_chunks(file_object, chunk_size=1024):\n",
    "    while True:\n",
    "        data = file_object.readlines(chunk_size)\n",
    "        if not data:\n",
    "            break\n",
    "        yield data\n",
    "        \n",
    "chunk_size=1000000000\n",
    "\n",
    "# string db parse\n",
    "with open(string_db,\"r\") as f:\n",
    "    string_list = []\n",
    "    n = 0\n",
    "    loop = tqdm.tqdm(read_in_chunks(f,chunk_size=chunk_size),leave=False)\n",
    "    for chunk in loop:\n",
    "        for entry in chunk:\n",
    "            if n!= 0:\n",
    "                entry = entry.strip().split()\n",
    "                column1 = entry[0].split(\".\")\n",
    "                taxo1 = column1[0]\n",
    "                column2 = entry[1].split(\".\")\n",
    "                taxo2 = column2[0]\n",
    "                if taxo1 == \"9606\" and taxo2 == \"9606\":\n",
    "                    protein1 = column1[1]\n",
    "                    protein2 = column2[1]\n",
    "                    neigh = int(entry[2])\n",
    "                    fusion = int(entry[3])\n",
    "                    co_occ = int(entry[4])\n",
    "                    co_exp = int(entry[5])\n",
    "                    sc_exp = int(entry[6])\n",
    "                    sc_db = int(entry[7])\n",
    "                    sc_txt = int(entry[8])\n",
    "                    sc_all = int(entry[9])\n",
    "                    string_list.append([taxo1,protein1,taxo2,protein2,neigh,fusion,co_occ,co_exp,sc_exp,sc_db,sc_txt,sc_all])\n",
    "            n += 1\n",
    "        "
   ]
  },
  {
   "cell_type": "code",
   "execution_count": 36,
   "metadata": {},
   "outputs": [],
   "source": [
    "# Download STITCH and STRING databases\n",
    "! wget --quiet http://stitch.embl.de/download/protein_chemical.links.transfer.v5.0/9606.protein_chemical.links.transfer.v5.0.tsv.gz\n",
    "! gunzip -k 9606.protein_chemical.links.transfer.v5.0.tsv.gz\n",
    "stitch_db = \"9606.protein_chemical.links.transfer.v5.0.tsv\"\n",
    "\n",
    "#! wget --quiet https://stringdb-static.org/download/protein.links.full.v11.0/9606.protein.links.full.v11.0.txt.gz\n",
    "#! gunzip -k 9606.protein.links.full.v11.0.txt.gz\n",
    "\n",
    "\n",
    "#string_db = \"9606.protein.links.full.v11.0.txt\""
   ]
  },
  {
   "cell_type": "code",
   "execution_count": 40,
   "metadata": {},
   "outputs": [
    {
     "name": "stderr",
     "output_type": "stream",
     "text": [
      "                                                               \r"
     ]
    }
   ],
   "source": [
    "# stitch db parse\n",
    "with open(stitch_db,\"r\") as f:\n",
    "    stitch_list = []\n",
    "    f_read = f.readlines()[1:]\n",
    "    loop = tqdm.tqdm(f_read, total=len(f_read),leave=False)\n",
    "    for entry in loop:\n",
    "        entry = entry.strip().split()\n",
    "        chiral = str(entry[0][3:4])\n",
    "        cid = int(entry[0][4:])\n",
    "        column2 = entry[1].split(\".\")\n",
    "        taxo = column2[0]\n",
    "        protein = column2[1]\n",
    "        sc_exp = int(entry[2])\n",
    "        sc_pred = int(entry[3])\n",
    "        sc_db = int(entry[4])\n",
    "        sc_txt = int(entry[5])\n",
    "        sc_all = int(entry[6])\n",
    "        stitch_list.append([chiral,cid,taxo,protein,sc_exp,sc_pred,sc_db,sc_txt,sc_all])"
   ]
  },
  {
   "cell_type": "code",
   "execution_count": 45,
   "metadata": {},
   "outputs": [
    {
     "data": {
      "text/plain": [
       "<sqlite3.Cursor at 0x7f9066278500>"
      ]
     },
     "execution_count": 45,
     "metadata": {},
     "output_type": "execute_result"
    }
   ],
   "source": [
    "# Create sql database\n",
    "stitch_columns = [\"chiral\",\"cid\",\"taxo\",\"protein\",\"sc_exp\",\"sc_pred\",\"sc_db\",\"sc_txt\",\"sc_all\"]\n",
    "string_columns = [\"tax1\",\"pro1\",\"tax2\",\"pro2\",\"neigh\",\"fusion\",\"co_occ\",\"co_exp\",\"sc_exp\",\"sc_db\",\"sc_txt\",\"sc_all\"]\n",
    "\n",
    "conn = sqlite3.connect('qm_db.sqlite') \n",
    "c = conn.cursor() \n",
    "\n",
    "c.execute('''DROP  table IF EXISTS  stitch;''')\n",
    "c.execute('''DROP  table IF EXISTS string;''')\n",
    "\n",
    "c.execute('''CREATE TABLE stitch_protchem_man\n",
    "             ([chiral] CHARACTER(1) NOT NULL, \n",
    "             [cid] integer NOT NULL, \n",
    "             [taxo] integer NOT NULL,\n",
    "             [protein] VARCHAR(50) NOT NULL,\n",
    "             [sc_exp] INT NOT NULL, \n",
    "             [sc_pred] INT NOT NULL,\n",
    "             [sc_db] INT NOT NULL,\n",
    "             [sc_txt] INT NOT NULL,\n",
    "             [sc_all] INT NOT NULL\n",
    "             )''')\n",
    "\n",
    "\n",
    "c.execute('''CREATE TABLE string_protlink_man\n",
    "             ([tax1] integer NOT NULL, \n",
    "             [pro1] VARCHAR(50) NOT NULL, \n",
    "             [tax2] integer NOT NULL,\n",
    "             [pro2] VARCHAR(50) NOT NULL,\n",
    "             [neigh] INT NOT NULL, \n",
    "             [fusion] INT NOT NULL,\n",
    "             [co_occ] INT NOT NULL,\n",
    "             [co_exp] INT NOT NULL,\n",
    "             [sc_exp] INT NOT NULL,\n",
    "             [sc_db] INT NOT NULL,\n",
    "             [sc_txt] INT NOT NULL,\n",
    "             [sc_all] INT NOT NULL\n",
    "             )''')"
   ]
  },
  {
   "cell_type": "code",
   "execution_count": 46,
   "metadata": {},
   "outputs": [
    {
     "name": "stderr",
     "output_type": "stream",
     "text": [
      "                                                               \r"
     ]
    }
   ],
   "source": [
    "# Data entry to the database\n",
    "def data_entry(input_list,table):\n",
    "    loop = tqdm.tqdm(input_list, total=len(input_list),leave=False)\n",
    "    data_tuple_list = []\n",
    "    for i,item in enumerate(loop):\n",
    "        data_tuple_list.append(item)\n",
    "        if i != 0 and i % 1000000 == 0:\n",
    "            c.executemany(\"INSERT INTO \" + table + \" VALUES(\" + str('?,' * len(item))[:-1] + \")\", (data_tuple_list))\n",
    "            data_tuple_list = []\n",
    "            conn.commit()\n",
    "    c.executemany(\"INSERT INTO \" + table + \" VALUES(\" + str('?,' * len(item))[:-1] + \")\", (data_tuple_list))\n",
    "    conn.commit()\n",
    "data_entry(stitch_list,\"stitch_protchem_man\")\n",
    "data_entry(string_list,\"string_protlink_man\")"
   ]
  },
  {
   "cell_type": "code",
   "execution_count": 47,
   "metadata": {},
   "outputs": [],
   "source": [
    "# Indexing the tables\n",
    "c.execute(\"CREATE INDEX index_my_table ON stitch_protchem_man(cid,protein);\")\n",
    "c.execute(\"CREATE INDEX index_my_table2 ON string_protlink_man(pro1,pro2);\")\n",
    "\n",
    "conn.close()"
   ]
  },
  {
   "cell_type": "code",
   "execution_count": 48,
   "metadata": {},
   "outputs": [
    {
     "data": {
      "text/plain": [
       "0"
      ]
     },
     "execution_count": 48,
     "metadata": {},
     "output_type": "execute_result"
    }
   ],
   "source": [
    "output_folder = \"../data/databases\"\n",
    "os.system(\"mkdir ../data\")\n",
    "os.system(\"mkdir \" + output_folder)\n",
    "os.system(\"mv \" + stitch_db + \" \" + output_folder)\n",
    "os.system(\"mv \" + string_db + \" \" + output_folder)\n",
    "os.system(\"mv \" + stitch_db + \".gz \" + output_folder)\n",
    "os.system(\"mv \" + string_db + \".gz \" + output_folder)\n",
    "os.system(\"mv qm_db.sqlite ../data\")"
   ]
  },
  {
   "cell_type": "code",
   "execution_count": null,
   "metadata": {},
   "outputs": [],
   "source": []
  }
 ],
 "metadata": {
  "kernelspec": {
   "display_name": "molpmofit",
   "language": "python",
   "name": "molpmofit"
  },
  "language_info": {
   "codemirror_mode": {
    "name": "ipython",
    "version": 3
   },
   "file_extension": ".py",
   "mimetype": "text/x-python",
   "name": "python",
   "nbconvert_exporter": "python",
   "pygments_lexer": "ipython3",
   "version": "3.7.7"
  }
 },
 "nbformat": 4,
 "nbformat_minor": 4
}

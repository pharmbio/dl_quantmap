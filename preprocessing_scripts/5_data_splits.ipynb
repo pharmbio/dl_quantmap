{
 "cells": [
  {
   "cell_type": "code",
   "execution_count": 4,
   "metadata": {},
   "outputs": [],
   "source": [
    "import os\n",
    "import glob\n",
    "import random\n",
    "from sklearn.model_selection import train_test_split"
   ]
  },
  {
   "cell_type": "code",
   "execution_count": 5,
   "metadata": {},
   "outputs": [],
   "source": [
    "os.system(\"mkdir ../data/data_splits\")\n",
    "smiles_cluster_data = glob.glob(\"../data/preprocessed_data/smiles_cluster*.txt\")\n",
    "num_clusters = 10 # Number of clusters to choose to do CV on. The entire data would take longer to do CV. A subset of data is chosen for CV"
   ]
  },
  {
   "cell_type": "code",
   "execution_count": 6,
   "metadata": {},
   "outputs": [],
   "source": [
    "for files in smiles_cluster_data:\n",
    "    # Reading data\n",
    "    distance_threshold = files.split(\"_\")[-1][:-4]\n",
    "    smiles_cluster = {entry.split()[0]:int(entry.split()[1]) for entry in open(files,\"r\").readlines()}\n",
    "    all_smiles = list(smiles_cluster.keys())\n",
    "    all_cluster = list(smiles_cluster.values())\n",
    "    \n",
    "    # Seleting random clusters for subset of data\n",
    "    chosen_random_clusters = [random.randint(0, len(set(all_cluster))) for _ in range(num_clusters)]\n",
    "    \n",
    "    # get subset of data using chosen random clusters\n",
    "    subset_smiles_cluster = {smiles:smiles_cluster[smiles] for smiles in smiles_cluster if smiles_cluster[smiles] in chosen_random_clusters}\n",
    "    \n",
    "    \n",
    "    # Renaming the clusters in the subset, needed for deeplearning. naming should start from 0-n\n",
    "    ref_name = {list(set(subset_smiles_cluster.values()))[i]:i for i in range(len(set(subset_smiles_cluster.values())))}\n",
    "    renamed_smiles_cluster = {}\n",
    "    for smiles in subset_smiles_cluster:\n",
    "        renamed_smiles_cluster[smiles] = ref_name[subset_smiles_cluster[smiles]]\n",
    "    \n",
    "    \n",
    "    # Divide the data to train,valid and test for final model\n",
    "    X_train, X_valid_test, y_train, y_valid_test = train_test_split(all_smiles, all_cluster, test_size=0.2, random_state=0,stratify=all_cluster)\n",
    "    X_valid, X_test, y_valid, y_test = train_test_split(X_valid_test, y_valid_test, test_size=0.5, random_state=0,stratify=y_valid_test)\n",
    "    \n",
    "    # Saving outputs\n",
    "    with open(\"../data/data_splits/train_\" + str(distance_threshold) + \".txt\",\"w\") as f:\n",
    "        for x,y in zip(X_train,y_train):\n",
    "            f.write(x + \" \" + str(y) + \"\\n\")\n",
    "            \n",
    "    with open(\"../data/data_splits/valid_\" + str(distance_threshold) + \".txt\",\"w\") as f:\n",
    "        for x,y in zip(X_valid,y_valid):\n",
    "            f.write(x + \" \" + str(y) + \"\\n\")\n",
    "            \n",
    "    with open(\"../data/data_splits/test_\" + str(distance_threshold) + \".txt\",\"w\") as f:\n",
    "        for x,y in zip(X_test,y_test):\n",
    "            f.write(x + \" \" + str(y) + \"\\n\")\n",
    "            \n",
    "            \n",
    "    # Divide the data to train and test for CV\n",
    "    subset_smiles = list(renamed_smiles_cluster.keys())\n",
    "    subset_cluster = list(renamed_smiles_cluster.values())\n",
    "    X_train, X_test, y_train, y_test = train_test_split(subset_smiles, subset_cluster, test_size=0.1, random_state=0,stratify=subset_cluster)\n",
    "    \n",
    "    # Saving outputs\n",
    "    with open(\"../data/data_splits/CV_train_\" + str(distance_threshold) + \".txt\",\"w\") as f:\n",
    "        for x,y in zip(X_train,y_train):\n",
    "            f.write(x + \" \" + str(y) + \"\\n\")\n",
    "    \n",
    "    with open(\"../data/data_splits/CV_test_\" + str(distance_threshold) + \".txt\",\"w\") as f:\n",
    "        for x,y in zip(X_test,y_test):\n",
    "            f.write(x + \" \" + str(y) + \"\\n\")"
   ]
  },
  {
   "cell_type": "code",
   "execution_count": null,
   "metadata": {},
   "outputs": [],
   "source": []
  }
 ],
 "metadata": {
  "kernelspec": {
   "display_name": "molpmofit",
   "language": "python",
   "name": "molpmofit"
  },
  "language_info": {
   "codemirror_mode": {
    "name": "ipython",
    "version": 3
   },
   "file_extension": ".py",
   "mimetype": "text/x-python",
   "name": "python",
   "nbconvert_exporter": "python",
   "pygments_lexer": "ipython3",
   "version": "3.7.7"
  }
 },
 "nbformat": 4,
 "nbformat_minor": 4
}

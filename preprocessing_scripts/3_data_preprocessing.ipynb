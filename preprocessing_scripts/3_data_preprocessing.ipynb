{
 "cells": [
  {
   "cell_type": "code",
   "execution_count": 13,
   "metadata": {},
   "outputs": [],
   "source": [
    "import os\n",
    "import glob\n",
    "import matplotlib.pyplot as plt\n",
    "from multiprocessing import Pool\n",
    "%matplotlib inline"
   ]
  },
  {
   "cell_type": "code",
   "execution_count": 14,
   "metadata": {},
   "outputs": [],
   "source": [
    "cluster_support = 100 # This puts a threshold on clusters to select. Select clusters with support >= given number.\n",
    "number_of_workers = 12\n",
    "\n",
    "cluster_files = glob.glob(\"../data/cluster_results/cid_cluster*.txt\")\n",
    "cid_smiles = {int(entry.split()[0]):entry.split()[1] for entry in open(\"../data/cid_smiles_sanitized_canonical.txt\",\"r\").readlines()}"
   ]
  },
  {
   "cell_type": "code",
   "execution_count": 15,
   "metadata": {},
   "outputs": [],
   "source": [
    "def read_cluster_file(input_file):\n",
    "    # Opening and reading files\n",
    "    with open(input_file,\"r\") as f:\n",
    "        cid_cluster = {}\n",
    "        for entry in f.readlines():\n",
    "            cid_cluster[int(entry.split()[0])] = int(entry.split()[1])\n",
    "    return cid_cluster\n",
    "\n",
    "def plot_frequency_histogram(cluster_dict):    \n",
    "    cluster_lower_threshold = cluster_support\n",
    "    cluster_cids_all = {cluster_id:[] for cluster_id in list(map(int,set(list(cluster_dict.values()))))}\n",
    "    for cid in cluster_dict:\n",
    "        cluster_cids_all[cluster_dict[cid]].append(cid)\n",
    "\n",
    "    cluster_cids = {}\n",
    "    for cluster in cluster_cids_all:\n",
    "        if len(cluster_cids_all[cluster]) >= cluster_lower_threshold:\n",
    "            cluster_cids[cluster] = cluster_cids_all[cluster]\n",
    "\n",
    "    cluster_count = list(cluster_dict.values())\n",
    "    \n",
    "    print (\"Red line shows the support of \" + str(cluster_support))\n",
    "    # Cluster frequency distribution\n",
    "    x = cluster_count\n",
    "    plt.hist(x, density=False, bins=100)  # density=False would make counts\n",
    "    plt.ylabel('Support')\n",
    "    plt.xlabel('Cluster number');\n",
    "    plt.axhline(y=cluster_support, color='r', linestyle='-')\n",
    "    plt.show()"
   ]
  },
  {
   "cell_type": "code",
   "execution_count": 16,
   "metadata": {},
   "outputs": [],
   "source": [
    "cid_cluster_all = {}\n",
    "for files in cluster_files:\n",
    "    cid_cluster_all[files.split(\"_\")[-1][:-4]] = read_cluster_file(files) "
   ]
  },
  {
   "cell_type": "markdown",
   "metadata": {},
   "source": [
    "Plot showing support on each clusters. Cluster number on the x-axis and support in the y axis."
   ]
  },
  {
   "cell_type": "code",
   "execution_count": 17,
   "metadata": {},
   "outputs": [
    {
     "name": "stdout",
     "output_type": "stream",
     "text": [
      "Red line shows the support of 100\n"
     ]
    },
    {
     "data": {
      "image/png": "[encoded data removed]",
      "text/plain": [
       "<Figure size 432x288 with 1 Axes>"
      ]
     },
     "metadata": {
      "needs_background": "light"
     },
     "output_type": "display_data"
    }
   ],
   "source": [
    "\n",
    "plot_frequency_histogram(cid_cluster_all[\"0.001\"])\n",
    "#plot_frequency_histogram(cid_cluster_all[\"0.005\"])\n",
    "#plot_frequency_histogram(cid_cluster_all[\"0.01\"])\n",
    "#plot_frequency_histogram(cid_cluster_all[\"0.05\"])\n",
    "#plot_frequency_histogram(cid_cluster_all[\"0.1\"])"
   ]
  },
  {
   "cell_type": "code",
   "execution_count": 18,
   "metadata": {},
   "outputs": [],
   "source": [
    "# Get data with given cluster_support\n",
    "# The clusters with given support is chosen and renamed from 0-n\n",
    "# Outputs cid-cluster data and smiles-cluster data.\n",
    "# smiles-cluster is further used for training the model\n",
    "class MakeDataSubset():\n",
    "    def __init__(self,support,cid_smiles):\n",
    "        self.support = support\n",
    "        self.cluster_cid = {}\n",
    "        self.cid_smiles = cid_smiles\n",
    "        self.smiles_cluster = {}\n",
    "        \n",
    "    def add_data(self,cid_cluster_dict):\n",
    "        for cid in cid_cluster_dict:\n",
    "            cluster = cid_cluster_dict[cid]\n",
    "            if cluster in self.cluster_cid:\n",
    "                self.cluster_cid[cluster].append(cid)\n",
    "            else:\n",
    "                self.cluster_cid[cluster] = [cid]\n",
    "    \n",
    "    def apply_threshold(self):\n",
    "        threshold_dict = {}\n",
    "        for cluster in self.cluster_cid:\n",
    "            if len(self.cluster_cid[cluster]) >= self.support:\n",
    "                threshold_dict[cluster] = self.cluster_cid[cluster]\n",
    "        self.cluster_cid = threshold_dict\n",
    "        self.rename_cluster()\n",
    "        \n",
    "    def rename_cluster(self): # Renaming the clusters from 0 to n, needed for training DL model\n",
    "        renamed_data = {}\n",
    "        reference_changed_clusters = []\n",
    "        all_old_clusters = list(set(self.cluster_cid.keys()))\n",
    "        for i,j in zip(range(len(self.cluster_cid)),all_old_clusters):\n",
    "            renamed_data[i] = self.cluster_cid[j]\n",
    "            reference_changed_clusters.append([i,j])\n",
    "            \n",
    "        self.reference_changed_clusters = reference_changed_clusters\n",
    "        self.renamed_data = renamed_data\n",
    "        \n",
    "    def get_smiles_cluster(self): # Converts CIDs to smiles. Output is smiles cluster\n",
    "        for cluster in self.renamed_data:\n",
    "            for cid in self.renamed_data[cluster]:\n",
    "                try:\n",
    "                    self.smiles_cluster[self.cid_smiles[cid]] = cluster\n",
    "                except:\n",
    "                    pass\n",
    "    \n",
    "    def save_data(self,distance_threshold=\"\"): # distance_threshold is the distance used for clustering the data, used for naming the output file\n",
    "        os.system(\"mkdir ../data/preprocessed_data\")\n",
    "        with open(\"../data/preprocessed_data/smiles_cluster_\" + str(distance_threshold) + \".txt\",\"w\") as f:\n",
    "            for smiles in self.smiles_cluster:\n",
    "                f.write(smiles + \" \" + str(self.smiles_cluster[smiles]) + \"\\n\")\n",
    "                \n",
    "        with open(\"../data/preprocessed_data/cid_cluster_\" + str(distance_threshold) + \".txt\",\"w\") as f:\n",
    "            for cluster in self.renamed_data:\n",
    "                for cid in self.renamed_data[cluster]:\n",
    "                    f.write(str(cid) + \" \" + str(cluster) + \"\\n\")\n",
    "                    \n",
    "        with open(\"../data/preprocessed_data/cluster_reference_\" + str(distance_threshold) + \".txt\",\"w\") as f:\n",
    "            for renamed_cluster,cluster in self.reference_changed_clusters:\n",
    "                f.write(str(renamed_cluster) + \" \" + str(cluster) +\"\\n\")"
   ]
  },
  {
   "cell_type": "code",
   "execution_count": 19,
   "metadata": {},
   "outputs": [],
   "source": [
    "for distance_threshold in cid_cluster_all:\n",
    "    subset_data = MakeDataSubset(cluster_support,cid_smiles)\n",
    "    subset_data.add_data(cid_cluster_all[distance_threshold])\n",
    "    subset_data.apply_threshold()\n",
    "    subset_data.get_smiles_cluster()\n",
    "    subset_data.save_data(distance_threshold)"
   ]
  },
  {
   "cell_type": "markdown",
   "metadata": {},
   "source": [
    "### Get distance between clusters\n",
    "<br>\n",
    "Used for finding distance between chemicals from predictions."
   ]
  },
  {
   "cell_type": "code",
   "execution_count": 20,
   "metadata": {},
   "outputs": [],
   "source": [
    "cid_cluster_files =  glob.glob(\"../data/cluster_results/cid_cluster_*.txt\")\n",
    "def get_cluster_distance(cid_cluster_file):\n",
    "    os.system(\"python get_cluster_distance.py \" + cid_cluster_file + \" \" + str(cluster_support))\n",
    "\n",
    "if __name__ == '__main__':\n",
    "    with Pool(number_of_workers) as p:\n",
    "        p.map(get_cluster_distance, cid_cluster_files)\n"
   ]
  },
  {
   "cell_type": "code",
   "execution_count": null,
   "metadata": {},
   "outputs": [],
   "source": []
  },
  {
   "cell_type": "code",
   "execution_count": null,
   "metadata": {},
   "outputs": [],
   "source": []
  },
  {
   "cell_type": "code",
   "execution_count": null,
   "metadata": {},
   "outputs": [],
   "source": []
  }
 ],
 "metadata": {
  "kernelspec": {
   "display_name": "molpmofit",
   "language": "python",
   "name": "molpmofit"
  },
  "language_info": {
   "codemirror_mode": {
    "name": "ipython",
    "version": 3
   },
   "file_extension": ".py",
   "mimetype": "text/x-python",
   "name": "python",
   "nbconvert_exporter": "python",
   "pygments_lexer": "ipython3",
   "version": "3.7.7"
  }
 },
 "nbformat": 4,
 "nbformat_minor": 4
}

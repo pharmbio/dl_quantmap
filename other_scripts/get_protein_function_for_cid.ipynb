{
 "cells": [
  {
   "cell_type": "code",
   "execution_count": 118,
   "metadata": {},
   "outputs": [],
   "source": [
    "import sqlite3\n",
    "import tqdm\n",
    "import pandas as pd\n",
    "import yaml\n",
    "import requests"
   ]
  },
  {
   "cell_type": "code",
   "execution_count": 2,
   "metadata": {},
   "outputs": [
    {
     "name": "stdout",
     "output_type": "stream",
     "text": [
      "('stitch_protchem_man',)\n",
      "('string_protlink_man',)\n",
      "('akshai_chem_hubs',)\n"
     ]
    }
   ],
   "source": [
    "db_path = \"\"\n",
    "distance_threshold = 0.005\n",
    "\n",
    "stitch_table_name = \"stitch_protchem_man\"\n",
    "chem_score = 700\n",
    "chem_max    = 10\n",
    "prot_max    = 150\n",
    "prot_score  = 700\n",
    "ppi_max     = 200\n",
    "\n",
    "df_string = pd.read_csv(\"9606.protein.info.v11.0.txt\",sep=\"\\t\") # String protein function information for homo sapiens"
   ]
  },
  {
   "cell_type": "code",
   "execution_count": null,
   "metadata": {},
   "outputs": [],
   "source": [
    "def get_item_count_list(input_list):\n",
    "    count_dict = {}\n",
    "    for entry in set(input_list):\n",
    "        count_dict[entry] = input_list.count(entry)\n",
    "    return count_dict"
   ]
  },
  {
   "cell_type": "code",
   "execution_count": null,
   "metadata": {},
   "outputs": [],
   "source": [
    "def get_annotation(df,protein):\n",
    "    return (df.loc[df['protein_external_id'] ==(\"9606.\" + str(protein))])"
   ]
  },
  {
   "cell_type": "code",
   "execution_count": 3,
   "metadata": {},
   "outputs": [],
   "source": [
    "# cid-cluster information for the cids in the file\n",
    "conn = sqlite3.connect(db_path)\n",
    "c = conn.cursor()\n",
    "    \n",
    "cid_cluster = {int(entry.split()[0]):int(entry.split()[1]) for entry in open(\"cid_cluster_\" + str(distance_threshold) + \".txt\",\"r\")}\n",
    "\n",
    "cluster_cid = {}\n",
    "for cid in cid_cluster:\n",
    "    cluster = cid_cluster[cid]\n",
    "    if cluster not in cluster_cid:\n",
    "        cluster_cid[cluster] = []\n",
    "    cluster_cid[cluster].append(cid)"
   ]
  },
  {
   "cell_type": "code",
   "execution_count": 40,
   "metadata": {},
   "outputs": [
    {
     "name": "stderr",
     "output_type": "stream",
     "text": [
      "                                                        \r"
     ]
    }
   ],
   "source": [
    "# Get protein function for cids\n",
    "input_cids = list(map(int, cid_cluster.keys()))\n",
    "\n",
    "ppi_cid = []\n",
    "\n",
    "loop = tqdm.tqdm(enumerate(input_cids),total=len(input_cids),leave=False)\n",
    "\n",
    "cid_proteins = {}\n",
    "for i,cid in loop:\n",
    "    seeds = []\n",
    "    c.execute(\"select distinct protein from \" + stitch_table_name + \" where cid = \" + str(cid) + \" and sc_all >=  \" + str(chem_score) + \" order by sc_all desc, \\\n",
    "              sc_exp desc limit \" + str(chem_max))\n",
    "    data = c.fetchall()\n",
    "    for row in data:\n",
    "        seeds.append(row[0])\n",
    "    cid_proteins[cid] = seeds"
   ]
  },
  {
   "cell_type": "code",
   "execution_count": 51,
   "metadata": {},
   "outputs": [],
   "source": [
    "# Get cluster and proteins in it information\n",
    "cluster_proteins = {}\n",
    "for cluster in cluster_cid:\n",
    "    cid_in_cluster = cluster_cid[cluster]\n",
    "    if cluster not in cluster_proteins:\n",
    "        cluster_proteins[cluster] = []\n",
    "        \n",
    "    for cid in cid_in_cluster:\n",
    "        cluster_proteins[cluster].extend(cid_proteins[cid])\n",
    "        \n",
    "# Get frequency of found protein\n",
    "cluster_proteins_frequency = {}\n",
    "for cluster in cluster_proteins:\n",
    "    cluster_proteins_frequency[cluster] = get_item_count_list(cluster_proteins[cluster])"
   ]
  },
  {
   "cell_type": "code",
   "execution_count": null,
   "metadata": {},
   "outputs": [],
   "source": [
    "# Writing protein function, if not found, extracting using API\n",
    "final_results = {}\n",
    "\n",
    "for cluster in sorted(list(cluster_proteins_frequency.keys())):\n",
    "    final_results[cluster] = []\n",
    "    all_protein = list(cluster_proteins_frequency[cluster].keys())\n",
    "    \n",
    "    total_count_of_proteins = sum(list(cluster_proteins_frequency[cluster].values()))\n",
    "    \n",
    "    loop = tqdm.tqdm(all_protein,total=len(all_protein),leave=False)\n",
    "    for protein in loop:\n",
    "        loop.set_description(\"Cluster = \" + str(cluster))\n",
    "        current_protein_results = {\"protein\":0,\"function\":0,\"count\":0,\"frequency\":0}\n",
    "        current_protein_results[\"protein\"] = protein\n",
    "        count = int(cluster_proteins_frequency[cluster][protein])\n",
    "        current_protein_results[\"count\"] = count\n",
    "        annotation = get_annotation(df_string,protein)[\"annotation\"].tolist()\n",
    "        if annotation != []:\n",
    "            current_protein_results[\"function\"] = annotation[0]\n",
    "        else:\n",
    "            URL = \"https://string-db.org/api/json/get_string_ids?identifiers=\" + str(protein)\n",
    "            r = requests.get(URL)\n",
    "            result = r.json()\n",
    "            if result != []:\n",
    "                current_protein_results[\"function\"] = result[0]['annotation']\n",
    "            else:\n",
    "                current_protein_results[\"function\"] = \"Not found\"\n",
    "        \n",
    "        current_protein_results[\"frequency\"] = float(count/total_count_of_proteins)\n",
    "        \n",
    "        final_results[cluster].append(current_protein_results)"
   ]
  },
  {
   "cell_type": "code",
   "execution_count": 124,
   "metadata": {},
   "outputs": [],
   "source": [
    "# Sorting based on clusters\n",
    "final_results_sorted = {}\n",
    "for cluster in final_results:\n",
    "    final_results_sorted[cluster] = sorted(final_results[cluster], key = lambda i: i['frequency'],reverse=True)"
   ]
  },
  {
   "cell_type": "code",
   "execution_count": 125,
   "metadata": {},
   "outputs": [],
   "source": [
    "# Writing final output\n",
    "with open('protein_function_' + str(distance_threshold) + '.yaml', 'w') as outfile:\n",
    "    yaml.dump(final_results_sorted, outfile, default_flow_style=False)"
   ]
  },
  {
   "cell_type": "code",
   "execution_count": 129,
   "metadata": {},
   "outputs": [],
   "source": [
    "# Reading final output\n",
    "with open(\"protein_function_\" + str(distance_threshold) + \".yaml\", 'r') as stream:\n",
    "    final_results_sorted = yaml.safe_load(stream)"
   ]
  },
  {
   "cell_type": "code",
   "execution_count": null,
   "metadata": {},
   "outputs": [],
   "source": []
  }
 ],
 "metadata": {
  "kernelspec": {
   "display_name": "bert",
   "language": "python",
   "name": "bert"
  },
  "language_info": {
   "codemirror_mode": {
    "name": "ipython",
    "version": 3
   },
   "file_extension": ".py",
   "mimetype": "text/x-python",
   "name": "python",
   "nbconvert_exporter": "python",
   "pygments_lexer": "ipython3",
   "version": "3.7.9"
  }
 },
 "nbformat": 4,
 "nbformat_minor": 4
}
